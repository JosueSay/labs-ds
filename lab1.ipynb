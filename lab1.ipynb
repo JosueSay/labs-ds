{
 "cells": [
  {
   "cell_type": "markdown",
   "id": "269f5ee7",
   "metadata": {},
   "source": [
    "# Análisis y Modelado de Series de Tiempo de Combustibles en Guatemala: Consumo, Importación y Precios (2000–2025)"
   ]
  },
  {
   "cell_type": "markdown",
   "id": "3d58c51c",
   "metadata": {},
   "source": [
    "## Carga, limpieza y preparación de datos\n",
    "\n",
    "1. Unificación de archivos\n",
    "2. Selección de variables objetivo\n",
    "3. Operaciones para unificar columnas\n",
    "4. Estandarización de formatos (datetime y unidad en precios GQT/GAL)\n",
    "5. Implementación de *caché* para leer los archivos de salida una vez que ya esten generados los posea el usuario\n",
    "\n",
    "\n",
    "En caso de querer hacer el procedimiento de limpieza y unificación de datos se puede borrar el archivo `cache/df_cache.txt` este controla el proceso para hacer la unificación del proceso o leer unicamente los csv generados; si se desea usar los csv que ya se tienen estos siempre leeran los archivos de **data-ouput** y tranformando la columna \"Fecha\" a `DateTime` por lo que no es necesario validar, adicional el encabezado manejado, variables, control se encuentra en la sección de **Variables - Constantes**."
   ]
  },
  {
   "cell_type": "markdown",
   "id": "ba4c8fc5",
   "metadata": {},
   "source": [
    "### Librerias"
   ]
  },
  {
   "cell_type": "code",
   "execution_count": 292,
   "id": "d6e2b3b4",
   "metadata": {},
   "outputs": [],
   "source": [
    "import pandas as pd\n",
    "import numpy as np\n",
    "import os"
   ]
  },
  {
   "cell_type": "markdown",
   "id": "a1dce06f",
   "metadata": {},
   "source": [
    "### Variables - Constantes"
   ]
  },
  {
   "cell_type": "code",
   "execution_count": 293,
   "id": "b26800f5",
   "metadata": {},
   "outputs": [],
   "source": [
    "DATA_DIR = \"./data-input\"\n",
    "OUTPUT_DIR = \"./data-output\"\n",
    "REPORTES = \"./reportes\"\n",
    "CACHE = \"./cache\"\n",
    "\n",
    "# input files\n",
    "CONSUMO_2024_XLSX = f\"{DATA_DIR}/CONSUMO-HIDROCARBUROS-2024-12.xlsx\"\n",
    "CONSUMO_2025_XLSX = f\"{DATA_DIR}/VENTAS-HIDROCARBUROS-2025-05.xlsx\"\n",
    "IMPORT_2024_XLSX = f\"{DATA_DIR}/IMPORTACION-HIDROCARBUROS-VOLUMEN-2024-12.xlsx\"\n",
    "IMPORT_2025_XLSX = f\"{DATA_DIR}/IMPORTACION-HIDROCARBUROS-VOLUMEN-2025-05.xlsx\"\n",
    "PRECIOS_2025_XLSX = f\"{DATA_DIR}/Precios-Promedio-Nacionales-Diarios-2025-1.xlsx\"\n",
    "\n",
    "# output files\n",
    "CONSUMO_CSV = f\"{OUTPUT_DIR}/consumo_combustibles.csv\"\n",
    "IMPORT_CSV = f\"{OUTPUT_DIR}/importacion_combustibles.csv\"\n",
    "PRECIOS_CSV = f\"{OUTPUT_DIR}/precios_diarios.csv\"\n",
    "TARGET_COLUMNS = [\"fecha\", \"regular\", \"superior\", \"diesel\", \"glp\"]\n",
    "\n",
    "# var control\n",
    "SAVE_CONSUMO_CSV = True\n",
    "SAVE_IMPORT_CSV = True\n",
    "SAVE_PRECIOS_CSV = True\n",
    "SAVE_REPORTES = True\n",
    "\n",
    "os.makedirs(OUTPUT_DIR, exist_ok=True)\n",
    "os.makedirs(REPORTES, exist_ok=True)\n",
    "os.makedirs(CACHE, exist_ok=True)"
   ]
  },
  {
   "cell_type": "markdown",
   "id": "42d51cf6",
   "metadata": {},
   "source": [
    "### Carga y conversión de archivos Excel a CSV"
   ]
  },
  {
   "cell_type": "code",
   "execution_count": 294,
   "id": "d2ca64ee",
   "metadata": {},
   "outputs": [],
   "source": [
    "def loadAndProcessFuelData(file2024, file2025, saveCsv=False, outputCsvPath=None):\n",
    "    # Load 2024 data\n",
    "    df2024 = pd.read_excel(file2024, skiprows=6)\n",
    "    df2024.columns = df2024.columns.str.strip().str.lower()\n",
    "    print(f\"2024 Data: {df2024.shape[0]} rows, {df2024.shape[1]} columns\")\n",
    "\n",
    "    # Drop last 3 rows\n",
    "    df2024 = df2024.iloc[:-3]\n",
    "    print(\"Removed unnecessary rows from 2024 data.\")\n",
    "    print(f\"Updated 2024 Data: {df2024.shape[0]} rows, {df2024.shape[1]} columns\")\n",
    "\n",
    "    # Select and process columns\n",
    "    target_col_2024 = [\n",
    "        \"fecha\",\n",
    "        \"gas licuado de petróleo\",\n",
    "        \"gasolina regular\",\n",
    "        \"gasolina superior\",\n",
    "        \"diesel alto azufre\",\n",
    "        \"diesel bajo azufre\"\n",
    "    ]\n",
    "    df2024 = df2024[target_col_2024]\n",
    "    df2024[\"diesel bajo azufre\"] = df2024[\"diesel bajo azufre\"] + df2024[\"diesel alto azufre\"]\n",
    "    df2024 = df2024.drop(columns=[\"diesel alto azufre\"])\n",
    "    print(\"Processed 2024 columns.\")\n",
    "\n",
    "    # Load 2025 data\n",
    "    df2025 = pd.read_excel(file2025, skiprows=6)\n",
    "    df2025.columns = df2025.columns.str.strip().str.lower()\n",
    "    print(f\"2025 Data: {df2025.shape[0]} rows, {df2025.shape[1]} columns\")\n",
    "\n",
    "    # Drop last 3 rows\n",
    "    df2025 = df2025.iloc[:-3]\n",
    "    print(\"Removed unnecessary rows from 2025 data.\")\n",
    "    print(f\"Updated 2025 Data: {df2025.shape[0]} rows, {df2025.shape[1]} columns\")\n",
    "\n",
    "    # Select target columns\n",
    "    target_col_2025 = [\n",
    "        \"fecha\",\n",
    "        \"gas licuado de petróleo\",\n",
    "        \"gasolina regular\",\n",
    "        \"gasolina superior\",\n",
    "        \"diesel bajo azufre\"\n",
    "    ]\n",
    "    df2025 = df2025[target_col_2025]\n",
    "    print(\"Processed 2025 columns.\")\n",
    "\n",
    "    # Concatenate both years\n",
    "    dfResult = pd.concat([df2024, df2025], ignore_index=True)\n",
    "    print(\"Merged 2024 and 2025 data.\")\n",
    "    \n",
    "    # Convert 'fecha' to datetime\n",
    "    dfResult[\"fecha\"] = pd.to_datetime(dfResult[\"fecha\"])\n",
    "    print(\"Converted 'fecha' column to datetime.\")\n",
    "\n",
    "    # Rename and reorder columns\n",
    "    dfResult.rename(columns={\n",
    "        \"fecha\": \"fecha\",\n",
    "        \"gasolina regular\": \"regular\",\n",
    "        \"gasolina superior\": \"superior\",\n",
    "        \"diesel bajo azufre\": \"diesel\",\n",
    "        \"gas licuado de petróleo\": \"glp\"\n",
    "    }, inplace=True)\n",
    "\n",
    "    dfResult = dfResult[TARGET_COLUMNS]\n",
    "\n",
    "    # Save to CSV if requested\n",
    "    if saveCsv and outputCsvPath:\n",
    "        dfResult.to_csv(outputCsvPath, index=False)\n",
    "        print(f\"Data saved to {outputCsvPath}\")\n",
    "\n",
    "    return dfResult"
   ]
  },
  {
   "cell_type": "code",
   "execution_count": 295,
   "id": "8863eec3",
   "metadata": {},
   "outputs": [],
   "source": [
    "def loadAndProcessMultipleSheets(configList, saveCsv=False, outputCsvPath=None):\n",
    "    dfs = []\n",
    "\n",
    "    for config in configList:\n",
    "        filePath = config[\"filePath\"]\n",
    "        sheetName = config[\"sheetName\"]\n",
    "        skipRows = config[\"skipRows\"]\n",
    "        rowsToRemove = config[\"rowsToRemove\"]\n",
    "\n",
    "        # Leer hoja\n",
    "        df = pd.read_excel(filePath, header=[0, 1], skiprows=skipRows, sheet_name=sheetName)\n",
    "        print(f\"Loaded sheet '{sheetName}': {df.shape[0]} rows\")\n",
    "\n",
    "        # Eliminar filas finales\n",
    "        df = df.iloc[:-rowsToRemove]\n",
    "\n",
    "        # Seleccionar columnas objetivo\n",
    "        target_columns_multi = [\n",
    "            ('FECHA', 'Unnamed: 0_level_1'),\n",
    "            ('Regular', 'GTQ/GALON'),\n",
    "            ('Superior', 'GTQ/GALON'),\n",
    "            ('Diesel', 'GTQ/GALON'),\n",
    "            ('Glp Cilindro 25Lbs.', 'GTQ/LB')\n",
    "        ]\n",
    "        df = df[target_columns_multi]\n",
    "\n",
    "        # Aplanar nombres\n",
    "        df.columns = [f\"{col1.strip()}\".lower() for col1, col2 in df.columns]\n",
    "\n",
    "        # GLP conversión de GTQ/lb a GTQ/galón (25 lbs * 4.24)\n",
    "        if 'glp cilindro 25lbs.' in df.columns:\n",
    "            df['glp'] = df['glp cilindro 25lbs.'] * 4.24\n",
    "            df.drop(columns=['glp cilindro 25lbs.'], inplace=True)\n",
    "        else:\n",
    "            df['glp'] = np.nan\n",
    "\n",
    "        # Reordenar columnas finales\n",
    "        df = df[TARGET_COLUMNS]\n",
    "\n",
    "        print(f\"Processed sheet '{sheetName}' with {df.shape[0]} rows\")\n",
    "        dfs.append(df)\n",
    "\n",
    "    # Concatenar todo\n",
    "    df_final = pd.concat(dfs, ignore_index=True)\n",
    "\n",
    "    # Convertir y ordenar por fecha\n",
    "    df_final[\"fecha\"] = pd.to_datetime(df_final[\"fecha\"])\n",
    "    df_final = df_final.sort_values(\"fecha\").reset_index(drop=True)\n",
    "    print(\"Converted and sorted 'fecha' column.\")\n",
    "\n",
    "    # Guardar si aplica\n",
    "    if saveCsv and outputCsvPath:\n",
    "        df_final.to_csv(outputCsvPath, index=False)\n",
    "        print(f\"Final data saved to {outputCsvPath}\")\n",
    "\n",
    "    return df_final"
   ]
  },
  {
   "cell_type": "code",
   "execution_count": 296,
   "id": "cb69562d",
   "metadata": {},
   "outputs": [],
   "source": [
    "def loadAllData():\n",
    "    CACHE_FLAG = os.path.join(CACHE, \"df_cache.txt\")\n",
    "    if not os.path.exists(CACHE_FLAG):\n",
    "        configList = [\n",
    "            {\"filePath\": PRECIOS_2025_XLSX, \"sheetName\": 0, \"skipRows\": 7, \"rowsToRemove\": 9},\n",
    "            {\"filePath\": PRECIOS_2025_XLSX, \"sheetName\": 1, \"skipRows\": 7, \"rowsToRemove\": 2},\n",
    "            {\"filePath\": PRECIOS_2025_XLSX, \"sheetName\": 2, \"skipRows\": 7, \"rowsToRemove\": 2},\n",
    "            {\"filePath\": PRECIOS_2025_XLSX, \"sheetName\": 3, \"skipRows\": 6, \"rowsToRemove\": 2},\n",
    "            {\"filePath\": PRECIOS_2025_XLSX, \"sheetName\": 4, \"skipRows\": 6, \"rowsToRemove\": 2}\n",
    "        ]\n",
    "\n",
    "        df_consumo = loadAndProcessFuelData(CONSUMO_2024_XLSX, CONSUMO_2025_XLSX, saveCsv=SAVE_CONSUMO_CSV, outputCsvPath=CONSUMO_CSV)\n",
    "        df_importaciones = loadAndProcessFuelData(IMPORT_2024_XLSX, IMPORT_2025_XLSX, saveCsv=SAVE_IMPORT_CSV, outputCsvPath=IMPORT_CSV)\n",
    "\n",
    "        df_precios = loadAndProcessMultipleSheets(\n",
    "            configList=configList,\n",
    "            saveCsv=SAVE_PRECIOS_CSV,\n",
    "            outputCsvPath=PRECIOS_CSV\n",
    "        )\n",
    "        \n",
    "        with open(CACHE_FLAG, \"w\") as f:\n",
    "            f.write(\"cached\")\n",
    "\n",
    "        print(\"Procesamiento completado desde archivos fuente.\")\n",
    "    else:\n",
    "        df_consumo = pd.read_csv(CONSUMO_CSV, parse_dates=[\"fecha\"])\n",
    "        df_importaciones = pd.read_csv(IMPORT_CSV, parse_dates=[\"fecha\"])\n",
    "        df_precios = pd.read_csv(PRECIOS_CSV, parse_dates=[\"fecha\"])\n",
    "\n",
    "        print(\"Datos cargados desde cache CSV.\")\n",
    "    return df_consumo, df_importaciones, df_precios"
   ]
  },
  {
   "cell_type": "markdown",
   "id": "d8887e14",
   "metadata": {},
   "source": [
    "### Generación de reportes para explorar data"
   ]
  },
  {
   "cell_type": "code",
   "execution_count": 297,
   "id": "2f839c4d",
   "metadata": {},
   "outputs": [],
   "source": [
    "def generateBasicReport(df, name):\n",
    "    report_path = os.path.join(REPORTES, f\"{name}_reporte.txt\")\n",
    "\n",
    "    with open(report_path, \"w\", encoding=\"utf-8\") as f:\n",
    "        f.write(\"REPORTE BÁSICO DE DATAFRAME\\n\")\n",
    "        f.write(\"=\" * 40 + \"\\n\\n\")\n",
    "\n",
    "        # Dimensiones\n",
    "        f.write(f\"Total filas: {df.shape[0]}\\n\")\n",
    "        f.write(f\"Total columnas: {df.shape[1]}\\n\\n\")\n",
    "\n",
    "        # Columnas\n",
    "        f.write(\"Columnas:\\n\")\n",
    "        for col in df.columns:\n",
    "            f.write(f\"  - {col}\\n\")\n",
    "        f.write(\"\\n\")\n",
    "\n",
    "        # Tipos de datos\n",
    "        f.write(\"Tipos de datos por columna:\\n\")\n",
    "        f.write(df.dtypes.to_string())\n",
    "        f.write(\"\\n\\n\")\n",
    "\n",
    "        # Nulos\n",
    "        f.write(\"Valores nulos por columna:\\n\")\n",
    "        f.write(df.isnull().sum().to_string())\n",
    "        f.write(\"\\n\\n\")\n",
    "\n",
    "        # Porcentaje de nulos\n",
    "        f.write(\"Porcentaje de nulos por columna:\\n\")\n",
    "        null_pct = (df.isnull().mean() * 100).round(2)\n",
    "        f.write(null_pct.to_string())\n",
    "        f.write(\"\\n\\n\")\n",
    "\n",
    "        # Duplicados\n",
    "        f.write(f\"Total filas duplicadas: {df.duplicated().sum()}\\n\\n\")\n",
    "\n",
    "        # Estadísticas básicas (numéricas)\n",
    "        f.write(\"Estadísticas básicas (solo numéricas):\\n\")\n",
    "        f.write(df.describe().to_string())\n",
    "        f.write(\"\\n\\n\")\n",
    "\n",
    "        # Medianas\n",
    "        f.write(\"Mediana por columna numérica:\\n\")\n",
    "        f.write(df.median(numeric_only=True).to_string())\n",
    "        f.write(\"\\n\")\n",
    "\n",
    "    print(f\"Reporte generado en: {report_path}\")\n"
   ]
  },
  {
   "cell_type": "code",
   "execution_count": 298,
   "id": "31780208",
   "metadata": {},
   "outputs": [
    {
     "name": "stdout",
     "output_type": "stream",
     "text": [
      "Datos cargados desde cache CSV.\n",
      "Reporte generado en: ./reportes\\consumo_combustibles_reporte.txt\n",
      "Reporte generado en: ./reportes\\importacion_combustibles_reporte.txt\n",
      "Reporte generado en: ./reportes\\precios_combustibles_reporte.txt\n"
     ]
    }
   ],
   "source": [
    "if SAVE_REPORTES:\n",
    "  df_consumo, df_importaciones, df_precios = loadAllData()\n",
    "  generateBasicReport(df_consumo, \"consumo_combustibles\")\n",
    "  generateBasicReport(df_importaciones, \"importacion_combustibles\")\n",
    "  generateBasicReport(df_precios, \"precios_combustibles\")"
   ]
  },
  {
   "cell_type": "markdown",
   "id": "8ba76a26",
   "metadata": {},
   "source": [
    "## Análisis exploratorio"
   ]
  },
  {
   "cell_type": "markdown",
   "id": "c3e432bc",
   "metadata": {},
   "source": [
    "### Librerias"
   ]
  },
  {
   "cell_type": "code",
   "execution_count": 299,
   "id": "f15299f3",
   "metadata": {},
   "outputs": [],
   "source": [
    "import pandas as pd\n",
    "import matplotlib.pyplot as plt\n",
    "import seaborn as sns\n",
    "import matplotlib.ticker as mtick"
   ]
  },
  {
   "cell_type": "markdown",
   "id": "f530a596",
   "metadata": {},
   "source": [
    "### Variables - Constantes"
   ]
  },
  {
   "cell_type": "code",
   "execution_count": 300,
   "id": "3f41cd9f",
   "metadata": {},
   "outputs": [],
   "source": [
    "# Variables control para mostrar histogramas, series de tiempo, heatmaps y casos especiales (pandemia y reciente)\n",
    "SHOW_ST = False\n",
    "SHOW_HT = False\n",
    "SHOW_HM = False\n",
    "SHOW_SC = False\n",
    "\n",
    "IMAGES_DIR = \"./images\"\n",
    "HISTOGRAMA = os.path.join(IMAGES_DIR, \"histogramas\")\n",
    "ST = os.path.join(IMAGES_DIR, \"series_tiempo\")\n",
    "HM = os.path.join(IMAGES_DIR, \"heatmap\")\n",
    "SC = os.path.join(IMAGES_DIR, \"special_cases\")\n",
    "\n",
    "os.makedirs(IMAGES_DIR, exist_ok=True)\n",
    "os.makedirs(HISTOGRAMA, exist_ok=True)\n",
    "os.makedirs(ST, exist_ok=True)\n",
    "os.makedirs(HM, exist_ok=True)\n",
    "os.makedirs(SC, exist_ok=True)"
   ]
  },
  {
   "cell_type": "markdown",
   "id": "3fbe3ed5",
   "metadata": {},
   "source": [
    "### Preparación previa"
   ]
  },
  {
   "cell_type": "code",
   "execution_count": 301,
   "id": "3069f059",
   "metadata": {},
   "outputs": [
    {
     "name": "stdout",
     "output_type": "stream",
     "text": [
      "Datos cargados desde cache CSV.\n"
     ]
    }
   ],
   "source": [
    "df_consumo, df_importaciones, df_precios = loadAllData()\n",
    "df_consumo.set_index('fecha', inplace=True)\n",
    "df_importaciones.set_index('fecha', inplace=True)\n",
    "df_precios.set_index('fecha', inplace=True)"
   ]
  },
  {
   "cell_type": "markdown",
   "id": "efeb0911",
   "metadata": {},
   "source": [
    "### Resumen Estadístico"
   ]
  },
  {
   "cell_type": "code",
   "execution_count": 302,
   "id": "0915e4c4",
   "metadata": {},
   "outputs": [
    {
     "name": "stdout",
     "output_type": "stream",
     "text": [
      "Resumen consumo:\n",
      "              regular       superior        diesel            glp\n",
      "count     305.000000     305.000000  3.050000e+02     305.000000\n",
      "mean   405016.802384  474465.500605  8.801976e+05  322885.822617\n",
      "std    225100.212304  117354.116627  2.319830e+05  118981.768608\n",
      "min    160741.900000  300242.781667  5.076627e+05  167818.137897\n",
      "25%    216560.790000  385044.965833  7.012555e+05  227154.969762\n",
      "50%    290286.650000  424438.710000  8.076921e+05  268875.095238\n",
      "75%    570267.250000  575720.920000  1.062409e+06  407953.780000\n",
      "max    942394.340000  790948.040000  1.474651e+06  600453.870000\n",
      "\n",
      "Resumen importaciones:\n",
      "             regular      superior        diesel           glp\n",
      "count  2.930000e+02  2.930000e+02  2.930000e+02  2.930000e+02\n",
      "mean   4.199959e+05  4.945875e+05  8.995610e+05  4.222037e+05\n",
      "std    2.471180e+05  1.578443e+05  2.945229e+05  2.059063e+05\n",
      "min    8.101530e+04  1.702925e+05  2.297647e+05  1.005615e+05\n",
      "25%    2.087960e+05  3.724865e+05  6.931605e+05  2.305846e+05\n",
      "50%    3.360057e+05  4.911947e+05  8.508069e+05  4.160683e+05\n",
      "75%    5.921033e+05  6.162690e+05  1.130871e+06  5.847096e+05\n",
      "max    1.141366e+06  1.227174e+06  1.617427e+06  1.077123e+06\n",
      "\n",
      "Resumen precios:\n",
      "            regular     superior       diesel          glp\n",
      "count  1655.000000  1655.000000  1655.000000  1655.000000\n",
      "mean     30.841692    32.149142    28.407299    20.587621\n",
      "std       3.611342     3.816833     4.870410     1.530334\n",
      "min      21.110000    21.910000    17.610000    16.790400\n",
      "25%      28.280000    29.510000    25.440000    19.504000\n",
      "50%      30.780000    32.190000    27.730000    20.352000\n",
      "75%      33.280000    34.515000    31.300000    20.691200\n",
      "max      40.500000    43.240000    41.270000    24.931200\n"
     ]
    }
   ],
   "source": [
    "print(\"Resumen consumo:\\n\", df_consumo.describe())\n",
    "print(\"\\nResumen importaciones:\\n\", df_importaciones.describe())\n",
    "print(\"\\nResumen precios:\\n\", df_precios.describe())"
   ]
  },
  {
   "cell_type": "markdown",
   "id": "84cc3c80",
   "metadata": {},
   "source": [
    "### Histogramas"
   ]
  },
  {
   "cell_type": "code",
   "execution_count": 303,
   "id": "61cd423c",
   "metadata": {},
   "outputs": [],
   "source": [
    "for df, nombre in zip([df_consumo, df_importaciones, df_precios], \n",
    "                      ['consumo', 'importaciones', 'precios']):\n",
    "    axes = df.hist(figsize=(10, 6), bins=30)\n",
    "\n",
    "    for ax in axes.flatten():\n",
    "        ax.tick_params(axis='both', labelsize=8)\n",
    "        ax.xaxis.set_major_formatter(mtick.ScalarFormatter(useMathText=True))\n",
    "        ax.ticklabel_format(style='scientific', axis='x', scilimits=(3, 5))\n",
    "        ax.ticklabel_format(style='scientific', axis='y', scilimits=(3, 5))\n",
    "        ax.set_title(ax.get_title(), fontsize=9)\n",
    "        ax.set_xlabel(\"Valor\", fontsize=9)\n",
    "        ax.set_ylabel(\"Frecuencia\", fontsize=9)\n",
    "\n",
    "    plt.suptitle(f'Distribución de variables - {nombre.capitalize()}', fontsize=12)\n",
    "    plt.tight_layout(rect=[0, 0.03, 1, 0.95])\n",
    "\n",
    "    path_salida = os.path.join(HISTOGRAMA, f\"{nombre}_histograma.png\")\n",
    "    plt.savefig(path_salida, dpi=150)\n",
    "    if SHOW_HT:\n",
    "        plt.show()\n",
    "    else:\n",
    "        plt.close()"
   ]
  },
  {
   "cell_type": "markdown",
   "id": "a74e76c4",
   "metadata": {},
   "source": [
    "### Series de tiempo"
   ]
  },
  {
   "cell_type": "code",
   "execution_count": 304,
   "id": "4b5c2b51",
   "metadata": {},
   "outputs": [],
   "source": [
    "def plotST(df, titulo, nombre_archivo_base):\n",
    "    subdir = os.path.join(ST, nombre_archivo_base)\n",
    "    os.makedirs(subdir, exist_ok=True)\n",
    "\n",
    "    # Gráfica combinada\n",
    "    df.plot(figsize=(12, 6))\n",
    "    plt.title(f\"Series de tiempo - {titulo}\", fontsize=12)\n",
    "    plt.xlabel(\"Fecha\", fontsize=10)\n",
    "    plt.ylabel(\"Valor\", fontsize=10)\n",
    "    plt.grid(True)\n",
    "    plt.tight_layout()\n",
    "\n",
    "    # Guardar imagen combinada\n",
    "    path = os.path.join(subdir, f\"{nombre_archivo_base}_combinada.png\")\n",
    "    plt.savefig(path, dpi=150)\n",
    "    if SHOW_ST:\n",
    "      plt.show()\n",
    "    else:\n",
    "      plt.close()\n",
    "\n",
    "    # Gráficas individuales por columna\n",
    "    for col in df.columns:\n",
    "        plt.figure(figsize=(10, 5))\n",
    "        df[col].plot()\n",
    "        plt.title(f\"{titulo} - {col.capitalize()}\", fontsize=11)\n",
    "        plt.xlabel(\"Fecha\", fontsize=9)\n",
    "        plt.ylabel(\"Valor\", fontsize=9)\n",
    "        plt.grid(True)\n",
    "        plt.tight_layout()\n",
    "\n",
    "        # Guardar cada gráfica individual\n",
    "        col_sanitized = col.lower().replace(\" \", \"_\")\n",
    "        path_indiv = os.path.join(subdir, f\"{nombre_archivo_base}_{col_sanitized}.png\")\n",
    "        plt.savefig(path_indiv, dpi=150)\n",
    "        if SHOW_ST:\n",
    "          plt.show()\n",
    "        else:\n",
    "          plt.close()"
   ]
  },
  {
   "cell_type": "code",
   "execution_count": 305,
   "id": "8b4ccb38",
   "metadata": {},
   "outputs": [],
   "source": [
    "plotST(df_consumo, \"Consumo\", \"consumo\")\n",
    "plotST(df_importaciones, \"Importaciones\", \"importaciones\")\n",
    "plotST(\n",
    "    df_precios.resample('ME').mean(),\n",
    "    \"Precios (promedios mensuales)\",\n",
    "    \"precios\"\n",
    ")"
   ]
  },
  {
   "cell_type": "markdown",
   "id": "718a634f",
   "metadata": {},
   "source": [
    "### HeatMap mensual por año"
   ]
  },
  {
   "cell_type": "code",
   "execution_count": 306,
   "id": "0185c600",
   "metadata": {},
   "outputs": [],
   "source": [
    "def heatMapMonthXYear(df, titulo, nombre_archivo_base):\n",
    "    subdir = os.path.join(HM, nombre_archivo_base)\n",
    "    os.makedirs(subdir, exist_ok=True)\n",
    "\n",
    "    df_cp = df.copy()\n",
    "    df_cp['año'] = df_cp.index.year\n",
    "    df_cp['mes'] = df_cp.index.month\n",
    "\n",
    "    for col in df_cp.columns.drop(['año', 'mes'], errors='ignore'):\n",
    "        tabla = df_cp.pivot_table(index='año', columns='mes', values=col, aggfunc='sum')\n",
    "        plt.figure(figsize=(10, 6))\n",
    "        sns.heatmap(tabla, cmap=\"YlGnBu\", annot=False, fmt=\".0f\")\n",
    "        plt.title(f\"{titulo} - {col}\")\n",
    "        plt.xlabel(\"Mes\")\n",
    "        plt.ylabel(\"Año\")\n",
    "        plt.tight_layout()\n",
    "\n",
    "        # Guardar imagen\n",
    "        col_sanitized = col.lower().replace(\" \", \"_\")\n",
    "        path = os.path.join(subdir, f\"{nombre_archivo_base}_{col_sanitized}.png\")\n",
    "        plt.savefig(path, dpi=150)\n",
    "\n",
    "        if SHOW_HM:\n",
    "            plt.show()\n",
    "        else:\n",
    "            plt.close()"
   ]
  },
  {
   "cell_type": "code",
   "execution_count": 307,
   "id": "a24a366a",
   "metadata": {},
   "outputs": [],
   "source": [
    "heatMapMonthXYear(df_importaciones, \"Importaciones mensuales\", \"importaciones\")\n",
    "heatMapMonthXYear(df_consumo, \"Consumo mensual\", \"consumo\")\n",
    "heatMapMonthXYear(df_precios, \"Precio mensual\", \"precios\")\n"
   ]
  },
  {
   "cell_type": "markdown",
   "id": "782e07c5",
   "metadata": {},
   "source": [
    "### Comportamiento en pandemia (2020-2021)"
   ]
  },
  {
   "cell_type": "code",
   "execution_count": 308,
   "id": "a8bdb90d",
   "metadata": {},
   "outputs": [],
   "source": [
    "def plotYearsPandemic(df, titulo, nombre_archivo_base):\n",
    "    pandemia_dir = os.path.join(SC, \"pandemia_2020-2021\")\n",
    "    subdir = os.path.join(pandemia_dir, nombre_archivo_base)\n",
    "\n",
    "    os.makedirs(subdir, exist_ok=True)\n",
    "\n",
    "    # Subconjunto de datos\n",
    "    df_pandemia = df.loc['2020':'2021']\n",
    "\n",
    "    # Gráfico combinado\n",
    "    df_pandemia.plot(figsize=(12, 6))\n",
    "    plt.title(f\"{titulo} durante la pandemia (2020-2021)\")\n",
    "    plt.grid(True)\n",
    "    plt.tight_layout()\n",
    "    plt.savefig(os.path.join(subdir, f\"{nombre_archivo_base}_combinado.png\"), dpi=150)\n",
    "    if SHOW_SC:\n",
    "        plt.show()\n",
    "    else:\n",
    "        plt.close()\n",
    "\n",
    "    # Gráficos individuales\n",
    "    for col in df_pandemia.columns:\n",
    "        plt.figure(figsize=(10, 5))\n",
    "        df_pandemia[col].plot()\n",
    "        plt.title(f\"{titulo} - {col} (2020-2021)\")\n",
    "        plt.grid(True)\n",
    "        plt.tight_layout()\n",
    "        col_sanitized = col.lower().replace(\" \", \"_\")\n",
    "        plt.savefig(os.path.join(subdir, f\"{nombre_archivo_base}_{col_sanitized}.png\"), dpi=150)\n",
    "        if SHOW_SC:\n",
    "            plt.show()\n",
    "        else:\n",
    "            plt.close()\n"
   ]
  },
  {
   "cell_type": "code",
   "execution_count": 309,
   "id": "69beef69",
   "metadata": {},
   "outputs": [],
   "source": [
    "plotYearsPandemic(df_consumo, \"Consumo\", \"consumo\")\n",
    "plotYearsPandemic(df_importaciones, \"Importaciones\", \"importaciones\")\n",
    "plotYearsPandemic(df_precios, \"Precios\", \"precios\")"
   ]
  },
  {
   "cell_type": "markdown",
   "id": "36132525",
   "metadata": {},
   "source": [
    "### Comportamiento reciente (2022 - 2025)"
   ]
  },
  {
   "cell_type": "code",
   "execution_count": 310,
   "id": "785e4a20",
   "metadata": {},
   "outputs": [],
   "source": [
    "def plotYearRange(df, titulo, nombre_archivo_base, anio_inicio, anio_fin=None):\n",
    "    # Validación de índice tipo datetime\n",
    "    if not pd.api.types.is_datetime64_any_dtype(df.index):\n",
    "        print(\"El índice del DataFrame no es datetime. No se puede filtrar por año.\")\n",
    "        return\n",
    "\n",
    "    # Validar si el año inicio existe\n",
    "    años_disponibles = df.index.year.unique()\n",
    "    if anio_inicio not in años_disponibles:\n",
    "        print(f\"Año de inicio {anio_inicio} no existe en los datos.\")\n",
    "        return\n",
    "\n",
    "    # Si no se proporciona año final, usar el último año disponible\n",
    "    if anio_fin is None:\n",
    "        anio_fin = df.index.year.max()\n",
    "\n",
    "    if anio_fin < anio_inicio:\n",
    "        print(f\"Año final {anio_fin} no puede ser menor que el año inicial {anio_inicio}.\")\n",
    "        return\n",
    "\n",
    "    # Filtrar el DataFrame\n",
    "    df_rango = df.loc[f'{anio_inicio}':f'{anio_fin}']\n",
    "    if df_rango.empty:\n",
    "        print(f\"No hay datos en el rango {anio_inicio} - {anio_fin}.\")\n",
    "        return\n",
    "\n",
    "    # Crear carpeta destino\n",
    "    rango_str = f\"{anio_inicio}_{anio_fin}\"\n",
    "    subdir = os.path.join(SC, f\"periodo_{rango_str}\", nombre_archivo_base)\n",
    "    os.makedirs(subdir, exist_ok=True)\n",
    "\n",
    "    # Gráfico combinado\n",
    "    df_rango.plot(figsize=(12, 6))\n",
    "    plt.title(f\"{titulo} ({anio_inicio}-{anio_fin})\")\n",
    "    plt.grid(True)\n",
    "    plt.tight_layout()\n",
    "    plt.savefig(os.path.join(subdir, f\"{nombre_archivo_base}_combinado.png\"), dpi=150)\n",
    "    if SHOW_SC:\n",
    "        plt.show()\n",
    "    else:\n",
    "        plt.close()\n",
    "\n",
    "    # Gráficos individuales\n",
    "    for col in df_rango.columns:\n",
    "        plt.figure(figsize=(10, 5))\n",
    "        df_rango[col].plot()\n",
    "        plt.title(f\"{titulo} - {col} ({anio_inicio}-{anio_fin})\")\n",
    "        plt.grid(True)\n",
    "        plt.tight_layout()\n",
    "        col_sanitized = col.lower().replace(\" \", \"_\")\n",
    "        plt.savefig(os.path.join(subdir, f\"{nombre_archivo_base}_{col_sanitized}.png\"), dpi=150)\n",
    "        if SHOW_SC:\n",
    "            plt.show()\n",
    "        else:\n",
    "            plt.close()"
   ]
  },
  {
   "cell_type": "code",
   "execution_count": 311,
   "id": "b4b5d152",
   "metadata": {},
   "outputs": [],
   "source": [
    "plotYearRange(df_consumo, \"Consumo\", \"consumo\", 2022)\n",
    "plotYearRange(df_importaciones, \"Importaciones\", \"importaciones\", 2022)\n",
    "plotYearRange(df_precios, \"Precios\", \"precios\", 2022)"
   ]
  },
  {
   "cell_type": "code",
   "execution_count": null,
   "id": "39dcb8d4",
   "metadata": {},
   "outputs": [],
   "source": []
  },
  {
   "cell_type": "code",
   "execution_count": null,
   "id": "a758b684",
   "metadata": {},
   "outputs": [],
   "source": []
  },
  {
   "cell_type": "code",
   "execution_count": null,
   "id": "785e5ea6",
   "metadata": {},
   "outputs": [],
   "source": []
  },
  {
   "cell_type": "code",
   "execution_count": null,
   "id": "18ae986e",
   "metadata": {},
   "outputs": [],
   "source": []
  },
  {
   "cell_type": "code",
   "execution_count": null,
   "id": "e4f75f43",
   "metadata": {},
   "outputs": [],
   "source": []
  },
  {
   "cell_type": "code",
   "execution_count": null,
   "id": "5b72ef4c",
   "metadata": {},
   "outputs": [],
   "source": []
  },
  {
   "cell_type": "code",
   "execution_count": null,
   "id": "281ff144",
   "metadata": {},
   "outputs": [],
   "source": []
  },
  {
   "cell_type": "code",
   "execution_count": null,
   "id": "d6de39ba",
   "metadata": {},
   "outputs": [],
   "source": []
  },
  {
   "cell_type": "code",
   "execution_count": null,
   "id": "760625a4",
   "metadata": {},
   "outputs": [],
   "source": []
  },
  {
   "cell_type": "code",
   "execution_count": null,
   "id": "51cce1ba",
   "metadata": {},
   "outputs": [],
   "source": []
  },
  {
   "cell_type": "markdown",
   "id": "ee2c3945",
   "metadata": {},
   "source": [
    "## Otra sección"
   ]
  },
  {
   "cell_type": "code",
   "execution_count": null,
   "id": "555758ae",
   "metadata": {},
   "outputs": [],
   "source": []
  },
  {
   "cell_type": "code",
   "execution_count": null,
   "id": "41f72a4f",
   "metadata": {},
   "outputs": [],
   "source": []
  },
  {
   "cell_type": "code",
   "execution_count": null,
   "id": "f60623db",
   "metadata": {},
   "outputs": [],
   "source": []
  },
  {
   "cell_type": "code",
   "execution_count": null,
   "id": "3bce0b4b",
   "metadata": {},
   "outputs": [],
   "source": []
  },
  {
   "cell_type": "code",
   "execution_count": null,
   "id": "f98c9a62",
   "metadata": {},
   "outputs": [],
   "source": []
  },
  {
   "cell_type": "code",
   "execution_count": null,
   "id": "e0baed39",
   "metadata": {},
   "outputs": [],
   "source": []
  },
  {
   "cell_type": "code",
   "execution_count": null,
   "id": "b961d8c1",
   "metadata": {},
   "outputs": [],
   "source": []
  },
  {
   "cell_type": "code",
   "execution_count": null,
   "id": "947347d6",
   "metadata": {},
   "outputs": [],
   "source": []
  },
  {
   "cell_type": "code",
   "execution_count": null,
   "id": "0ba5fdb2",
   "metadata": {},
   "outputs": [],
   "source": []
  },
  {
   "cell_type": "code",
   "execution_count": null,
   "id": "3d9fba14",
   "metadata": {},
   "outputs": [],
   "source": []
  },
  {
   "cell_type": "code",
   "execution_count": null,
   "id": "af0210ae",
   "metadata": {},
   "outputs": [],
   "source": []
  },
  {
   "cell_type": "code",
   "execution_count": null,
   "id": "733e15de",
   "metadata": {},
   "outputs": [],
   "source": []
  },
  {
   "cell_type": "code",
   "execution_count": null,
   "id": "14f6fea8",
   "metadata": {},
   "outputs": [],
   "source": []
  },
  {
   "cell_type": "code",
   "execution_count": 312,
   "id": "d20ae058",
   "metadata": {},
   "outputs": [],
   "source": [
    "# Para más tarde xd\n",
    "\n",
    "# from datetime import datetime\n",
    "\n",
    "# import matplotlib.pyplot as plt\n",
    "\n",
    "# from statsmodels.tsa.seasonal import seasonal_decompose\n",
    "# from statsmodels.tsa.stattools import adfuller\n",
    "# from statsmodels.graphics.tsaplots import plot_acf, plot_pacf\n",
    "# from statsmodels.tsa.holtwinters import ExponentialSmoothing\n",
    "# from statsmodels.tsa.arima.model import ARIMA\n",
    "\n",
    "# import pmdarima as pm  # auto_arima\n",
    "\n",
    "# from prophet import Prophet\n",
    "\n",
    "# from sklearn.metrics import mean_absolute_error, mean_squared_error\n",
    "# from sklearn.neural_network import MLPRegressor  # NN simple o usar tensorflow dependerá por ahora el simple\n",
    "\n",
    "\n",
    "# serie_precio_gasolina_regular      # Series de tiempo de precios mensual (Ciudad Capital)\n",
    "# serie_import_diesel_total          # Serie mensual de importación total de diésel\n",
    "# serie_consumo_gas_licuado          # Serie mensual de consumo de gas propano"
   ]
  }
 ],
 "metadata": {
  "kernelspec": {
   "display_name": ".venv",
   "language": "python",
   "name": "python3"
  },
  "language_info": {
   "codemirror_mode": {
    "name": "ipython",
    "version": 3
   },
   "file_extension": ".py",
   "mimetype": "text/x-python",
   "name": "python",
   "nbconvert_exporter": "python",
   "pygments_lexer": "ipython3",
   "version": "3.12.3"
  }
 },
 "nbformat": 4,
 "nbformat_minor": 5
}
