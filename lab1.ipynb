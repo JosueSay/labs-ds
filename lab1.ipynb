{
 "cells": [
  {
   "cell_type": "markdown",
   "id": "269f5ee7",
   "metadata": {},
   "source": [
    "# Análisis y Modelado de Series de Tiempo de Combustibles en Guatemala: Consumo, Importación y Precios (2000–2025)"
   ]
  },
  {
   "cell_type": "markdown",
   "id": "3d58c51c",
   "metadata": {},
   "source": [
    "## Carga, limpieza y preparación de datos"
   ]
  },
  {
   "cell_type": "markdown",
   "id": "ba4c8fc5",
   "metadata": {},
   "source": [
    "### Librerias"
   ]
  },
  {
   "cell_type": "code",
   "execution_count": 114,
   "id": "d6e2b3b4",
   "metadata": {},
   "outputs": [],
   "source": [
    "import pandas as pd\n",
    "import numpy as np\n",
    "import os\n",
    "\n",
    "import matplotlib.pyplot as plt\n",
    "\n",
    "from statsmodels.tsa.seasonal import seasonal_decompose\n",
    "from statsmodels.tsa.stattools import adfuller\n",
    "from statsmodels.graphics.tsaplots import plot_acf, plot_pacf\n",
    "from statsmodels.tsa.holtwinters import ExponentialSmoothing\n",
    "from statsmodels.tsa.arima.model import ARIMA\n",
    "\n",
    "# import pmdarima as pm  # auto_arima\n",
    "\n",
    "from prophet import Prophet\n",
    "\n",
    "from sklearn.metrics import mean_absolute_error, mean_squared_error\n",
    "from sklearn.neural_network import MLPRegressor  # NN simple o usar tensorflow dependerá por ahora el simple"
   ]
  },
  {
   "cell_type": "markdown",
   "id": "a1dce06f",
   "metadata": {},
   "source": [
    "### Variables - Constantes"
   ]
  },
  {
   "cell_type": "code",
   "execution_count": null,
   "id": "b26800f5",
   "metadata": {},
   "outputs": [],
   "source": [
    "DATA_DIR = \"./data-input\"\n",
    "OUTPUT_DIR = \"./data-output\"\n",
    "\n",
    "# input files\n",
    "CONSUMO_2024_XLSX = f\"{DATA_DIR}/CONSUMO-HIDROCARBUROS-2024-12.xlsx\"\n",
    "CONSUMO_2025_XLSX = f\"{DATA_DIR}/VENTAS-HIDROCARBUROS-2025-05.xlsx\"\n",
    "IMPORT_2024_XLSX = f\"{DATA_DIR}/IMPORTACION-HIDROCARBUROS-VOLUMEN-2024-12.xlsx\"\n",
    "IMPORT_2025_XLSX = f\"{DATA_DIR}/IMPORTACION-HIDROCARBUROS-VOLUMEN-2025-05.xlsx\"\n",
    "PRECIOS_2025_XLSX = f\"{DATA_DIR}/Precios-Promedio-Nacionales-Diarios-2025-1.xlsx\"\n",
    "\n",
    "# output files\n",
    "CONSUMO_CSV = f\"{OUTPUT_DIR}/consumo_combustibles.csv\"\n",
    "IMPORT_CSV = f\"{OUTPUT_DIR}/importacion_combustibles.csv\"\n",
    "PRECIOS_CSV = f\"{OUTPUT_DIR}/precios_diarios.csv\"\n",
    "\n",
    "# var control\n",
    "SAVE_CONSUMO_CSV = True\n",
    "SAVE_IMPORT_CSV = True\n",
    "SAVE_PRECIOS_CSV = True\n",
    "os.makedirs(OUTPUT_DIR, exist_ok=True)"
   ]
  },
  {
   "cell_type": "code",
   "execution_count": 165,
   "id": "d2ca64ee",
   "metadata": {},
   "outputs": [
    {
     "name": "stdout",
     "output_type": "stream",
     "text": [
      "Consumo 2024: 303 rows, 24 columns\n"
     ]
    }
   ],
   "source": [
    "df_consumo_raw_2024 = pd.read_excel(CONSUMO_2024_XLSX, skiprows=6)\n",
    "df_consumo_raw_2024.head()\n",
    "print(f\"Consumo 2024: {df_consumo_raw_2024.shape[0]} rows, {df_consumo_raw_2024.shape[1]} columns\")"
   ]
  },
  {
   "cell_type": "code",
   "execution_count": 166,
   "id": "b4627c15",
   "metadata": {},
   "outputs": [
    {
     "data": {
      "application/vnd.microsoft.datawrangler.viewer.v0+json": {
       "columns": [
        {
         "name": "index",
         "rawType": "int64",
         "type": "integer"
        },
        {
         "name": "Fecha",
         "rawType": "object",
         "type": "unknown"
        },
        {
         "name": "Aceites lubricantes",
         "rawType": "float64",
         "type": "float"
        },
        {
         "name": "Asfalto",
         "rawType": "float64",
         "type": "float"
        },
        {
         "name": "Bunker",
         "rawType": "float64",
         "type": "float"
        },
        {
         "name": "Ceras",
         "rawType": "float64",
         "type": "float"
        },
        {
         "name": "Combustible turbo jet",
         "rawType": "float64",
         "type": "float"
        },
        {
         "name": "Diesel bajo azufre",
         "rawType": "float64",
         "type": "float"
        },
        {
         "name": "Diesel ultra bajo azufre",
         "rawType": "float64",
         "type": "float"
        },
        {
         "name": "Gas licuado de petróleo",
         "rawType": "float64",
         "type": "float"
        },
        {
         "name": "Gas natural",
         "rawType": "float64",
         "type": "float"
        },
        {
         "name": "Gasolina de aviación",
         "rawType": "float64",
         "type": "float"
        },
        {
         "name": "Gasolina regular",
         "rawType": "float64",
         "type": "float"
        },
        {
         "name": "Gasolina superior",
         "rawType": "float64",
         "type": "float"
        },
        {
         "name": "Grasas lubricantes",
         "rawType": "float64",
         "type": "float"
        },
        {
         "name": "Kerosina",
         "rawType": "float64",
         "type": "float"
        },
        {
         "name": "Mezclas\noleosas",
         "rawType": "float64",
         "type": "float"
        },
        {
         "name": "Naftas",
         "rawType": "float64",
         "type": "float"
        },
        {
         "name": "PetCoke",
         "rawType": "float64",
         "type": "float"
        },
        {
         "name": "Petróleo crudo",
         "rawType": "float64",
         "type": "float"
        },
        {
         "name": "Solventes",
         "rawType": "float64",
         "type": "float"
        },
        {
         "name": "Butano",
         "rawType": "float64",
         "type": "float"
        },
        {
         "name": "Diesel alto azufre",
         "rawType": "float64",
         "type": "float"
        },
        {
         "name": "Orimulsión",
         "rawType": "float64",
         "type": "float"
        },
        {
         "name": "Total",
         "rawType": "float64",
         "type": "float"
        }
       ],
       "ref": "e0577a94-7154-48de-a9ae-14a7facf2a65",
       "rows": [
        [
         "298",
         "2024-11-01 00:00:00",
         "27908.7",
         "40511.2",
         "124919.31",
         "443.86",
         "82838.52",
         "1307671.59",
         "25612.05",
         "597059.97",
         "0.0",
         "1314.62",
         "826513.65",
         "699028.58",
         "-2155.73",
         "-404.93",
         "2222.71",
         "213.66",
         "458140.38",
         "77270.48",
         "12412.73",
         "0.0",
         "0.0",
         "0.0",
         "4281521.350000001"
        ],
        [
         "299",
         "2024-12-01 00:00:00",
         "32294.67",
         "3193.68",
         "138019.95",
         "-105.04",
         "52651.66",
         "1474651.06",
         "24615.04",
         "564762.33",
         "-708.53",
         "45840.3",
         "913940.78",
         "773715.97",
         "247.81",
         "-1351.58",
         "1228.81",
         "107.08",
         "320785.16",
         "90160.0",
         "14279.61",
         "0.0",
         "0.0",
         "0.0",
         "4448328.760000001"
        ],
        [
         "300",
         null,
         null,
         null,
         null,
         null,
         null,
         null,
         null,
         null,
         null,
         null,
         null,
         null,
         null,
         null,
         null,
         null,
         null,
         null,
         null,
         null,
         null,
         null,
         null
        ],
        [
         "301",
         "Fuente: informes mensuales de titulares de licencias de la cadena de comercialización de hidrocarburos.",
         null,
         null,
         null,
         null,
         null,
         null,
         null,
         null,
         null,
         null,
         null,
         null,
         null,
         null,
         null,
         null,
         null,
         null,
         null,
         null,
         null,
         null,
         null
        ],
        [
         "302",
         "Nota: Información sujeta a actualización por rectificaciones y presentación extemporánea de informes mensuales, por parte de los sujetos obligados.",
         null,
         null,
         null,
         null,
         null,
         null,
         null,
         null,
         null,
         null,
         null,
         null,
         null,
         null,
         null,
         null,
         null,
         null,
         null,
         null,
         null,
         null,
         null
        ]
       ],
       "shape": {
        "columns": 24,
        "rows": 5
       }
      },
      "text/html": [
       "<div>\n",
       "<style scoped>\n",
       "    .dataframe tbody tr th:only-of-type {\n",
       "        vertical-align: middle;\n",
       "    }\n",
       "\n",
       "    .dataframe tbody tr th {\n",
       "        vertical-align: top;\n",
       "    }\n",
       "\n",
       "    .dataframe thead th {\n",
       "        text-align: right;\n",
       "    }\n",
       "</style>\n",
       "<table border=\"1\" class=\"dataframe\">\n",
       "  <thead>\n",
       "    <tr style=\"text-align: right;\">\n",
       "      <th></th>\n",
       "      <th>Fecha</th>\n",
       "      <th>Aceites lubricantes</th>\n",
       "      <th>Asfalto</th>\n",
       "      <th>Bunker</th>\n",
       "      <th>Ceras</th>\n",
       "      <th>Combustible turbo jet</th>\n",
       "      <th>Diesel bajo azufre</th>\n",
       "      <th>Diesel ultra bajo azufre</th>\n",
       "      <th>Gas licuado de petróleo</th>\n",
       "      <th>Gas natural</th>\n",
       "      <th>Gasolina de aviación</th>\n",
       "      <th>Gasolina regular</th>\n",
       "      <th>Gasolina superior</th>\n",
       "      <th>Grasas lubricantes</th>\n",
       "      <th>Kerosina</th>\n",
       "      <th>Mezclas\\noleosas</th>\n",
       "      <th>Naftas</th>\n",
       "      <th>PetCoke</th>\n",
       "      <th>Petróleo crudo</th>\n",
       "      <th>Solventes</th>\n",
       "      <th>Butano</th>\n",
       "      <th>Diesel alto azufre</th>\n",
       "      <th>Orimulsión</th>\n",
       "      <th>Total</th>\n",
       "    </tr>\n",
       "  </thead>\n",
       "  <tbody>\n",
       "    <tr>\n",
       "      <th>298</th>\n",
       "      <td>2024-11-01 00:00:00</td>\n",
       "      <td>27908.70</td>\n",
       "      <td>40511.20</td>\n",
       "      <td>124919.31</td>\n",
       "      <td>443.86</td>\n",
       "      <td>82838.52</td>\n",
       "      <td>1307671.59</td>\n",
       "      <td>25612.05</td>\n",
       "      <td>597059.97</td>\n",
       "      <td>0.00</td>\n",
       "      <td>1314.62</td>\n",
       "      <td>826513.65</td>\n",
       "      <td>699028.58</td>\n",
       "      <td>-2155.73</td>\n",
       "      <td>-404.93</td>\n",
       "      <td>2222.71</td>\n",
       "      <td>213.66</td>\n",
       "      <td>458140.38</td>\n",
       "      <td>77270.48</td>\n",
       "      <td>12412.73</td>\n",
       "      <td>0.0</td>\n",
       "      <td>0.0</td>\n",
       "      <td>0.0</td>\n",
       "      <td>4281521.35</td>\n",
       "    </tr>\n",
       "    <tr>\n",
       "      <th>299</th>\n",
       "      <td>2024-12-01 00:00:00</td>\n",
       "      <td>32294.67</td>\n",
       "      <td>3193.68</td>\n",
       "      <td>138019.95</td>\n",
       "      <td>-105.04</td>\n",
       "      <td>52651.66</td>\n",
       "      <td>1474651.06</td>\n",
       "      <td>24615.04</td>\n",
       "      <td>564762.33</td>\n",
       "      <td>-708.53</td>\n",
       "      <td>45840.30</td>\n",
       "      <td>913940.78</td>\n",
       "      <td>773715.97</td>\n",
       "      <td>247.81</td>\n",
       "      <td>-1351.58</td>\n",
       "      <td>1228.81</td>\n",
       "      <td>107.08</td>\n",
       "      <td>320785.16</td>\n",
       "      <td>90160.00</td>\n",
       "      <td>14279.61</td>\n",
       "      <td>0.0</td>\n",
       "      <td>0.0</td>\n",
       "      <td>0.0</td>\n",
       "      <td>4448328.76</td>\n",
       "    </tr>\n",
       "    <tr>\n",
       "      <th>300</th>\n",
       "      <td>NaN</td>\n",
       "      <td>NaN</td>\n",
       "      <td>NaN</td>\n",
       "      <td>NaN</td>\n",
       "      <td>NaN</td>\n",
       "      <td>NaN</td>\n",
       "      <td>NaN</td>\n",
       "      <td>NaN</td>\n",
       "      <td>NaN</td>\n",
       "      <td>NaN</td>\n",
       "      <td>NaN</td>\n",
       "      <td>NaN</td>\n",
       "      <td>NaN</td>\n",
       "      <td>NaN</td>\n",
       "      <td>NaN</td>\n",
       "      <td>NaN</td>\n",
       "      <td>NaN</td>\n",
       "      <td>NaN</td>\n",
       "      <td>NaN</td>\n",
       "      <td>NaN</td>\n",
       "      <td>NaN</td>\n",
       "      <td>NaN</td>\n",
       "      <td>NaN</td>\n",
       "      <td>NaN</td>\n",
       "    </tr>\n",
       "    <tr>\n",
       "      <th>301</th>\n",
       "      <td>Fuente: informes mensuales de titulares de lic...</td>\n",
       "      <td>NaN</td>\n",
       "      <td>NaN</td>\n",
       "      <td>NaN</td>\n",
       "      <td>NaN</td>\n",
       "      <td>NaN</td>\n",
       "      <td>NaN</td>\n",
       "      <td>NaN</td>\n",
       "      <td>NaN</td>\n",
       "      <td>NaN</td>\n",
       "      <td>NaN</td>\n",
       "      <td>NaN</td>\n",
       "      <td>NaN</td>\n",
       "      <td>NaN</td>\n",
       "      <td>NaN</td>\n",
       "      <td>NaN</td>\n",
       "      <td>NaN</td>\n",
       "      <td>NaN</td>\n",
       "      <td>NaN</td>\n",
       "      <td>NaN</td>\n",
       "      <td>NaN</td>\n",
       "      <td>NaN</td>\n",
       "      <td>NaN</td>\n",
       "      <td>NaN</td>\n",
       "    </tr>\n",
       "    <tr>\n",
       "      <th>302</th>\n",
       "      <td>Nota: Información sujeta a actualización por r...</td>\n",
       "      <td>NaN</td>\n",
       "      <td>NaN</td>\n",
       "      <td>NaN</td>\n",
       "      <td>NaN</td>\n",
       "      <td>NaN</td>\n",
       "      <td>NaN</td>\n",
       "      <td>NaN</td>\n",
       "      <td>NaN</td>\n",
       "      <td>NaN</td>\n",
       "      <td>NaN</td>\n",
       "      <td>NaN</td>\n",
       "      <td>NaN</td>\n",
       "      <td>NaN</td>\n",
       "      <td>NaN</td>\n",
       "      <td>NaN</td>\n",
       "      <td>NaN</td>\n",
       "      <td>NaN</td>\n",
       "      <td>NaN</td>\n",
       "      <td>NaN</td>\n",
       "      <td>NaN</td>\n",
       "      <td>NaN</td>\n",
       "      <td>NaN</td>\n",
       "      <td>NaN</td>\n",
       "    </tr>\n",
       "  </tbody>\n",
       "</table>\n",
       "</div>"
      ],
      "text/plain": [
       "                                                 Fecha  ...       Total\n",
       "298                                2024-11-01 00:00:00  ...  4281521.35\n",
       "299                                2024-12-01 00:00:00  ...  4448328.76\n",
       "300                                                NaN  ...         NaN\n",
       "301  Fuente: informes mensuales de titulares de lic...  ...         NaN\n",
       "302  Nota: Información sujeta a actualización por r...  ...         NaN\n",
       "\n",
       "[5 rows x 24 columns]"
      ]
     },
     "execution_count": 166,
     "metadata": {},
     "output_type": "execute_result"
    }
   ],
   "source": [
    "df_consumo_raw_2024.tail()"
   ]
  },
  {
   "cell_type": "code",
   "execution_count": 167,
   "id": "bae3d7fa",
   "metadata": {},
   "outputs": [],
   "source": [
    "df_consumo_raw_2024 = df_consumo_raw_2024.iloc[:-3]"
   ]
  },
  {
   "cell_type": "code",
   "execution_count": 168,
   "id": "4574b0b5",
   "metadata": {},
   "outputs": [
    {
     "data": {
      "application/vnd.microsoft.datawrangler.viewer.v0+json": {
       "columns": [
        {
         "name": "index",
         "rawType": "int64",
         "type": "integer"
        },
        {
         "name": "Fecha",
         "rawType": "object",
         "type": "unknown"
        },
        {
         "name": "Aceites lubricantes",
         "rawType": "float64",
         "type": "float"
        },
        {
         "name": "Asfalto",
         "rawType": "float64",
         "type": "float"
        },
        {
         "name": "Bunker",
         "rawType": "float64",
         "type": "float"
        },
        {
         "name": "Ceras",
         "rawType": "float64",
         "type": "float"
        },
        {
         "name": "Combustible turbo jet",
         "rawType": "float64",
         "type": "float"
        },
        {
         "name": "Diesel bajo azufre",
         "rawType": "float64",
         "type": "float"
        },
        {
         "name": "Diesel ultra bajo azufre",
         "rawType": "float64",
         "type": "float"
        },
        {
         "name": "Gas licuado de petróleo",
         "rawType": "float64",
         "type": "float"
        },
        {
         "name": "Gas natural",
         "rawType": "float64",
         "type": "float"
        },
        {
         "name": "Gasolina de aviación",
         "rawType": "float64",
         "type": "float"
        },
        {
         "name": "Gasolina regular",
         "rawType": "float64",
         "type": "float"
        },
        {
         "name": "Gasolina superior",
         "rawType": "float64",
         "type": "float"
        },
        {
         "name": "Grasas lubricantes",
         "rawType": "float64",
         "type": "float"
        },
        {
         "name": "Kerosina",
         "rawType": "float64",
         "type": "float"
        },
        {
         "name": "Mezclas\noleosas",
         "rawType": "float64",
         "type": "float"
        },
        {
         "name": "Naftas",
         "rawType": "float64",
         "type": "float"
        },
        {
         "name": "PetCoke",
         "rawType": "float64",
         "type": "float"
        },
        {
         "name": "Petróleo crudo",
         "rawType": "float64",
         "type": "float"
        },
        {
         "name": "Solventes",
         "rawType": "float64",
         "type": "float"
        },
        {
         "name": "Butano",
         "rawType": "float64",
         "type": "float"
        },
        {
         "name": "Diesel alto azufre",
         "rawType": "float64",
         "type": "float"
        },
        {
         "name": "Orimulsión",
         "rawType": "float64",
         "type": "float"
        },
        {
         "name": "Total",
         "rawType": "float64",
         "type": "float"
        }
       ],
       "ref": "80e75b76-8fc5-49d8-882a-fded540e5fd0",
       "rows": [
        [
         "295",
         "2024-08-01 00:00:00",
         "30900.55",
         "17003.78",
         "156542.43",
         "-60.64",
         "89476.43",
         "1218077.03",
         "14935.62",
         "551959.94",
         "-4951.56",
         "1503.47",
         "869998.0",
         "707708.07",
         "-2014.59",
         "75.78",
         "1134.75",
         "108.9",
         "865931.97",
         "84348.69",
         "10368.44",
         "0.0",
         "0.0",
         "0.0",
         "4613047.0600000005"
        ],
        [
         "296",
         "2024-09-01 00:00:00",
         "14622.84",
         "14328.19",
         "129425.22",
         "-270.15",
         "78778.74",
         "1162290.44",
         "14095.76",
         "555683.08",
         "-3573.61",
         "574.16",
         "827629.0",
         "685834.74",
         "1082.53",
         "118.16",
         "832.23",
         "92.59",
         "491181.54",
         "78185.2",
         "17725.02",
         "0.0",
         "0.0",
         "0.0",
         "4068635.68"
        ],
        [
         "297",
         "2024-10-01 00:00:00",
         "107.02",
         "14598.41",
         "165763.38",
         "452.66",
         "78247.37",
         "1398782.97",
         "15216.16",
         "600453.87",
         "0.0",
         "388.41",
         "942394.34",
         "790948.04",
         "-1692.1",
         "82.29",
         "1095.07",
         "301.66",
         "487452.36",
         "88885.31",
         "15835.09",
         "0.0",
         "0.0",
         "0.0",
         "4599312.31"
        ],
        [
         "298",
         "2024-11-01 00:00:00",
         "27908.7",
         "40511.2",
         "124919.31",
         "443.86",
         "82838.52",
         "1307671.59",
         "25612.05",
         "597059.97",
         "0.0",
         "1314.62",
         "826513.65",
         "699028.58",
         "-2155.73",
         "-404.93",
         "2222.71",
         "213.66",
         "458140.38",
         "77270.48",
         "12412.73",
         "0.0",
         "0.0",
         "0.0",
         "4281521.350000001"
        ],
        [
         "299",
         "2024-12-01 00:00:00",
         "32294.67",
         "3193.68",
         "138019.95",
         "-105.04",
         "52651.66",
         "1474651.06",
         "24615.04",
         "564762.33",
         "-708.53",
         "45840.3",
         "913940.78",
         "773715.97",
         "247.81",
         "-1351.58",
         "1228.81",
         "107.08",
         "320785.16",
         "90160.0",
         "14279.61",
         "0.0",
         "0.0",
         "0.0",
         "4448328.760000001"
        ]
       ],
       "shape": {
        "columns": 24,
        "rows": 5
       }
      },
      "text/html": [
       "<div>\n",
       "<style scoped>\n",
       "    .dataframe tbody tr th:only-of-type {\n",
       "        vertical-align: middle;\n",
       "    }\n",
       "\n",
       "    .dataframe tbody tr th {\n",
       "        vertical-align: top;\n",
       "    }\n",
       "\n",
       "    .dataframe thead th {\n",
       "        text-align: right;\n",
       "    }\n",
       "</style>\n",
       "<table border=\"1\" class=\"dataframe\">\n",
       "  <thead>\n",
       "    <tr style=\"text-align: right;\">\n",
       "      <th></th>\n",
       "      <th>Fecha</th>\n",
       "      <th>Aceites lubricantes</th>\n",
       "      <th>Asfalto</th>\n",
       "      <th>Bunker</th>\n",
       "      <th>Ceras</th>\n",
       "      <th>Combustible turbo jet</th>\n",
       "      <th>Diesel bajo azufre</th>\n",
       "      <th>Diesel ultra bajo azufre</th>\n",
       "      <th>Gas licuado de petróleo</th>\n",
       "      <th>Gas natural</th>\n",
       "      <th>Gasolina de aviación</th>\n",
       "      <th>Gasolina regular</th>\n",
       "      <th>Gasolina superior</th>\n",
       "      <th>Grasas lubricantes</th>\n",
       "      <th>Kerosina</th>\n",
       "      <th>Mezclas\\noleosas</th>\n",
       "      <th>Naftas</th>\n",
       "      <th>PetCoke</th>\n",
       "      <th>Petróleo crudo</th>\n",
       "      <th>Solventes</th>\n",
       "      <th>Butano</th>\n",
       "      <th>Diesel alto azufre</th>\n",
       "      <th>Orimulsión</th>\n",
       "      <th>Total</th>\n",
       "    </tr>\n",
       "  </thead>\n",
       "  <tbody>\n",
       "    <tr>\n",
       "      <th>295</th>\n",
       "      <td>2024-08-01 00:00:00</td>\n",
       "      <td>30900.55</td>\n",
       "      <td>17003.78</td>\n",
       "      <td>156542.43</td>\n",
       "      <td>-60.64</td>\n",
       "      <td>89476.43</td>\n",
       "      <td>1218077.03</td>\n",
       "      <td>14935.62</td>\n",
       "      <td>551959.94</td>\n",
       "      <td>-4951.56</td>\n",
       "      <td>1503.47</td>\n",
       "      <td>869998.00</td>\n",
       "      <td>707708.07</td>\n",
       "      <td>-2014.59</td>\n",
       "      <td>75.78</td>\n",
       "      <td>1134.75</td>\n",
       "      <td>108.90</td>\n",
       "      <td>865931.97</td>\n",
       "      <td>84348.69</td>\n",
       "      <td>10368.44</td>\n",
       "      <td>0.0</td>\n",
       "      <td>0.0</td>\n",
       "      <td>0.0</td>\n",
       "      <td>4613047.06</td>\n",
       "    </tr>\n",
       "    <tr>\n",
       "      <th>296</th>\n",
       "      <td>2024-09-01 00:00:00</td>\n",
       "      <td>14622.84</td>\n",
       "      <td>14328.19</td>\n",
       "      <td>129425.22</td>\n",
       "      <td>-270.15</td>\n",
       "      <td>78778.74</td>\n",
       "      <td>1162290.44</td>\n",
       "      <td>14095.76</td>\n",
       "      <td>555683.08</td>\n",
       "      <td>-3573.61</td>\n",
       "      <td>574.16</td>\n",
       "      <td>827629.00</td>\n",
       "      <td>685834.74</td>\n",
       "      <td>1082.53</td>\n",
       "      <td>118.16</td>\n",
       "      <td>832.23</td>\n",
       "      <td>92.59</td>\n",
       "      <td>491181.54</td>\n",
       "      <td>78185.20</td>\n",
       "      <td>17725.02</td>\n",
       "      <td>0.0</td>\n",
       "      <td>0.0</td>\n",
       "      <td>0.0</td>\n",
       "      <td>4068635.68</td>\n",
       "    </tr>\n",
       "    <tr>\n",
       "      <th>297</th>\n",
       "      <td>2024-10-01 00:00:00</td>\n",
       "      <td>107.02</td>\n",
       "      <td>14598.41</td>\n",
       "      <td>165763.38</td>\n",
       "      <td>452.66</td>\n",
       "      <td>78247.37</td>\n",
       "      <td>1398782.97</td>\n",
       "      <td>15216.16</td>\n",
       "      <td>600453.87</td>\n",
       "      <td>0.00</td>\n",
       "      <td>388.41</td>\n",
       "      <td>942394.34</td>\n",
       "      <td>790948.04</td>\n",
       "      <td>-1692.10</td>\n",
       "      <td>82.29</td>\n",
       "      <td>1095.07</td>\n",
       "      <td>301.66</td>\n",
       "      <td>487452.36</td>\n",
       "      <td>88885.31</td>\n",
       "      <td>15835.09</td>\n",
       "      <td>0.0</td>\n",
       "      <td>0.0</td>\n",
       "      <td>0.0</td>\n",
       "      <td>4599312.31</td>\n",
       "    </tr>\n",
       "    <tr>\n",
       "      <th>298</th>\n",
       "      <td>2024-11-01 00:00:00</td>\n",
       "      <td>27908.70</td>\n",
       "      <td>40511.20</td>\n",
       "      <td>124919.31</td>\n",
       "      <td>443.86</td>\n",
       "      <td>82838.52</td>\n",
       "      <td>1307671.59</td>\n",
       "      <td>25612.05</td>\n",
       "      <td>597059.97</td>\n",
       "      <td>0.00</td>\n",
       "      <td>1314.62</td>\n",
       "      <td>826513.65</td>\n",
       "      <td>699028.58</td>\n",
       "      <td>-2155.73</td>\n",
       "      <td>-404.93</td>\n",
       "      <td>2222.71</td>\n",
       "      <td>213.66</td>\n",
       "      <td>458140.38</td>\n",
       "      <td>77270.48</td>\n",
       "      <td>12412.73</td>\n",
       "      <td>0.0</td>\n",
       "      <td>0.0</td>\n",
       "      <td>0.0</td>\n",
       "      <td>4281521.35</td>\n",
       "    </tr>\n",
       "    <tr>\n",
       "      <th>299</th>\n",
       "      <td>2024-12-01 00:00:00</td>\n",
       "      <td>32294.67</td>\n",
       "      <td>3193.68</td>\n",
       "      <td>138019.95</td>\n",
       "      <td>-105.04</td>\n",
       "      <td>52651.66</td>\n",
       "      <td>1474651.06</td>\n",
       "      <td>24615.04</td>\n",
       "      <td>564762.33</td>\n",
       "      <td>-708.53</td>\n",
       "      <td>45840.30</td>\n",
       "      <td>913940.78</td>\n",
       "      <td>773715.97</td>\n",
       "      <td>247.81</td>\n",
       "      <td>-1351.58</td>\n",
       "      <td>1228.81</td>\n",
       "      <td>107.08</td>\n",
       "      <td>320785.16</td>\n",
       "      <td>90160.00</td>\n",
       "      <td>14279.61</td>\n",
       "      <td>0.0</td>\n",
       "      <td>0.0</td>\n",
       "      <td>0.0</td>\n",
       "      <td>4448328.76</td>\n",
       "    </tr>\n",
       "  </tbody>\n",
       "</table>\n",
       "</div>"
      ],
      "text/plain": [
       "                   Fecha  Aceites lubricantes  ...  Orimulsión       Total\n",
       "295  2024-08-01 00:00:00             30900.55  ...         0.0  4613047.06\n",
       "296  2024-09-01 00:00:00             14622.84  ...         0.0  4068635.68\n",
       "297  2024-10-01 00:00:00               107.02  ...         0.0  4599312.31\n",
       "298  2024-11-01 00:00:00             27908.70  ...         0.0  4281521.35\n",
       "299  2024-12-01 00:00:00             32294.67  ...         0.0  4448328.76\n",
       "\n",
       "[5 rows x 24 columns]"
      ]
     },
     "execution_count": 168,
     "metadata": {},
     "output_type": "execute_result"
    }
   ],
   "source": [
    "df_consumo_raw_2024.tail()"
   ]
  },
  {
   "cell_type": "code",
   "execution_count": 170,
   "id": "a432ca07",
   "metadata": {},
   "outputs": [
    {
     "name": "stdout",
     "output_type": "stream",
     "text": [
      "Eliminación de filas innecesarias completada.\n",
      "Consumo 2024: 300 rows, 24 columns\n",
      "Index(['Fecha', 'Aceites lubricantes', 'Asfalto', 'Bunker', 'Ceras',\n",
      "       'Combustible turbo jet', 'Diesel bajo azufre',\n",
      "       'Diesel ultra bajo azufre', 'Gas licuado de petróleo', 'Gas natural',\n",
      "       'Gasolina de aviación', 'Gasolina regular', 'Gasolina superior',\n",
      "       'Grasas lubricantes', 'Kerosina', 'Mezclas\\noleosas', 'Naftas',\n",
      "       'PetCoke', 'Petróleo crudo', 'Solventes', 'Butano',\n",
      "       'Diesel alto azufre', 'Orimulsión', 'Total'],\n",
      "      dtype='object')\n"
     ]
    }
   ],
   "source": [
    "print(\"Eliminación de filas innecesarias completada.\")\n",
    "print(f\"Consumo 2024: {df_consumo_raw_2024.shape[0]} rows, {df_consumo_raw_2024.shape[1]} columns\")\n",
    "print(df_consumo_raw_2024.columns)"
   ]
  },
  {
   "cell_type": "code",
   "execution_count": 171,
   "id": "cb0f0be9",
   "metadata": {},
   "outputs": [
    {
     "name": "stdout",
     "output_type": "stream",
     "text": [
      "Obtención de columnas de interés.\n",
      "Consumo 2024: 300 rows, 6 columns\n"
     ]
    }
   ],
   "source": [
    "target_columns = [\"Fecha\",\"Gas licuado de petróleo\", \"Gasolina regular\", \"Gasolina superior\", \"Diesel alto azufre\", \"Diesel bajo azufre\"]\n",
    "df_consumo_raw_2024 = df_consumo_raw_2024[target_columns]\n",
    "print(\"Obtención de columnas de interés.\")\n",
    "print(f\"Consumo 2024: {df_consumo_raw_2024.shape[0]} rows, {df_consumo_raw_2024.shape[1]} columns\")"
   ]
  },
  {
   "cell_type": "code",
   "execution_count": 172,
   "id": "41e31b22",
   "metadata": {},
   "outputs": [
    {
     "data": {
      "application/vnd.microsoft.datawrangler.viewer.v0+json": {
       "columns": [
        {
         "name": "index",
         "rawType": "int64",
         "type": "integer"
        },
        {
         "name": "Fecha",
         "rawType": "object",
         "type": "unknown"
        },
        {
         "name": "Gas licuado de petróleo",
         "rawType": "float64",
         "type": "float"
        },
        {
         "name": "Gasolina regular",
         "rawType": "float64",
         "type": "float"
        },
        {
         "name": "Gasolina superior",
         "rawType": "float64",
         "type": "float"
        },
        {
         "name": "Diesel alto azufre",
         "rawType": "float64",
         "type": "float"
        },
        {
         "name": "Diesel bajo azufre",
         "rawType": "float64",
         "type": "float"
        }
       ],
       "ref": "c5c8fa73-6119-4d8b-abcd-7056eaf32bca",
       "rows": [
        [
         "0",
         "2000-01-01 00:00:00",
         "194410.47619047618",
         "202645.2",
         "308156.82",
         "634667.06",
         "0.0"
        ],
        [
         "1",
         "2000-02-01 00:00:00",
         "174710.55238095237",
         "205530.96",
         "307766.31",
         "642380.66",
         "0.0"
        ],
        [
         "2",
         "2000-03-01 00:00:00",
         "189234.06666666668",
         "229499.56",
         "331910.29",
         "699807.25",
         "0.0"
        ],
        [
         "3",
         "2000-04-01 00:00:00",
         "174330.60714285713",
         "210680.4",
         "315648.08",
         "586803.98",
         "0.0"
        ],
        [
         "4",
         "2000-05-01 00:00:00",
         "191745.14761904764",
         "208164.34",
         "319667.97",
         "656948.2",
         "0.0"
        ]
       ],
       "shape": {
        "columns": 6,
        "rows": 5
       }
      },
      "text/html": [
       "<div>\n",
       "<style scoped>\n",
       "    .dataframe tbody tr th:only-of-type {\n",
       "        vertical-align: middle;\n",
       "    }\n",
       "\n",
       "    .dataframe tbody tr th {\n",
       "        vertical-align: top;\n",
       "    }\n",
       "\n",
       "    .dataframe thead th {\n",
       "        text-align: right;\n",
       "    }\n",
       "</style>\n",
       "<table border=\"1\" class=\"dataframe\">\n",
       "  <thead>\n",
       "    <tr style=\"text-align: right;\">\n",
       "      <th></th>\n",
       "      <th>Fecha</th>\n",
       "      <th>Gas licuado de petróleo</th>\n",
       "      <th>Gasolina regular</th>\n",
       "      <th>Gasolina superior</th>\n",
       "      <th>Diesel alto azufre</th>\n",
       "      <th>Diesel bajo azufre</th>\n",
       "    </tr>\n",
       "  </thead>\n",
       "  <tbody>\n",
       "    <tr>\n",
       "      <th>0</th>\n",
       "      <td>2000-01-01 00:00:00</td>\n",
       "      <td>194410.476190</td>\n",
       "      <td>202645.20</td>\n",
       "      <td>308156.82</td>\n",
       "      <td>634667.06</td>\n",
       "      <td>0.0</td>\n",
       "    </tr>\n",
       "    <tr>\n",
       "      <th>1</th>\n",
       "      <td>2000-02-01 00:00:00</td>\n",
       "      <td>174710.552381</td>\n",
       "      <td>205530.96</td>\n",
       "      <td>307766.31</td>\n",
       "      <td>642380.66</td>\n",
       "      <td>0.0</td>\n",
       "    </tr>\n",
       "    <tr>\n",
       "      <th>2</th>\n",
       "      <td>2000-03-01 00:00:00</td>\n",
       "      <td>189234.066667</td>\n",
       "      <td>229499.56</td>\n",
       "      <td>331910.29</td>\n",
       "      <td>699807.25</td>\n",
       "      <td>0.0</td>\n",
       "    </tr>\n",
       "    <tr>\n",
       "      <th>3</th>\n",
       "      <td>2000-04-01 00:00:00</td>\n",
       "      <td>174330.607143</td>\n",
       "      <td>210680.40</td>\n",
       "      <td>315648.08</td>\n",
       "      <td>586803.98</td>\n",
       "      <td>0.0</td>\n",
       "    </tr>\n",
       "    <tr>\n",
       "      <th>4</th>\n",
       "      <td>2000-05-01 00:00:00</td>\n",
       "      <td>191745.147619</td>\n",
       "      <td>208164.34</td>\n",
       "      <td>319667.97</td>\n",
       "      <td>656948.20</td>\n",
       "      <td>0.0</td>\n",
       "    </tr>\n",
       "  </tbody>\n",
       "</table>\n",
       "</div>"
      ],
      "text/plain": [
       "                 Fecha  ...  Diesel bajo azufre\n",
       "0  2000-01-01 00:00:00  ...                 0.0\n",
       "1  2000-02-01 00:00:00  ...                 0.0\n",
       "2  2000-03-01 00:00:00  ...                 0.0\n",
       "3  2000-04-01 00:00:00  ...                 0.0\n",
       "4  2000-05-01 00:00:00  ...                 0.0\n",
       "\n",
       "[5 rows x 6 columns]"
      ]
     },
     "execution_count": 172,
     "metadata": {},
     "output_type": "execute_result"
    }
   ],
   "source": [
    "df_consumo_raw_2024.head()"
   ]
  },
  {
   "cell_type": "code",
   "execution_count": 173,
   "id": "73f5eb80",
   "metadata": {},
   "outputs": [
    {
     "data": {
      "application/vnd.microsoft.datawrangler.viewer.v0+json": {
       "columns": [
        {
         "name": "index",
         "rawType": "int64",
         "type": "integer"
        },
        {
         "name": "Fecha",
         "rawType": "object",
         "type": "unknown"
        },
        {
         "name": "Gas licuado de petróleo",
         "rawType": "float64",
         "type": "float"
        },
        {
         "name": "Gasolina regular",
         "rawType": "float64",
         "type": "float"
        },
        {
         "name": "Gasolina superior",
         "rawType": "float64",
         "type": "float"
        },
        {
         "name": "Diesel bajo azufre",
         "rawType": "float64",
         "type": "float"
        }
       ],
       "ref": "99c72318-0dc4-4672-88fd-08391c40ff7f",
       "rows": [
        [
         "0",
         "2000-01-01 00:00:00",
         "194410.47619047618",
         "202645.2",
         "308156.82",
         "634667.06"
        ],
        [
         "1",
         "2000-02-01 00:00:00",
         "174710.55238095237",
         "205530.96",
         "307766.31",
         "642380.66"
        ],
        [
         "2",
         "2000-03-01 00:00:00",
         "189234.06666666668",
         "229499.56",
         "331910.29",
         "699807.25"
        ],
        [
         "3",
         "2000-04-01 00:00:00",
         "174330.60714285713",
         "210680.4",
         "315648.08",
         "586803.98"
        ],
        [
         "4",
         "2000-05-01 00:00:00",
         "191745.14761904764",
         "208164.34",
         "319667.97",
         "656948.2"
        ]
       ],
       "shape": {
        "columns": 5,
        "rows": 5
       }
      },
      "text/html": [
       "<div>\n",
       "<style scoped>\n",
       "    .dataframe tbody tr th:only-of-type {\n",
       "        vertical-align: middle;\n",
       "    }\n",
       "\n",
       "    .dataframe tbody tr th {\n",
       "        vertical-align: top;\n",
       "    }\n",
       "\n",
       "    .dataframe thead th {\n",
       "        text-align: right;\n",
       "    }\n",
       "</style>\n",
       "<table border=\"1\" class=\"dataframe\">\n",
       "  <thead>\n",
       "    <tr style=\"text-align: right;\">\n",
       "      <th></th>\n",
       "      <th>Fecha</th>\n",
       "      <th>Gas licuado de petróleo</th>\n",
       "      <th>Gasolina regular</th>\n",
       "      <th>Gasolina superior</th>\n",
       "      <th>Diesel bajo azufre</th>\n",
       "    </tr>\n",
       "  </thead>\n",
       "  <tbody>\n",
       "    <tr>\n",
       "      <th>0</th>\n",
       "      <td>2000-01-01 00:00:00</td>\n",
       "      <td>194410.476190</td>\n",
       "      <td>202645.20</td>\n",
       "      <td>308156.82</td>\n",
       "      <td>634667.06</td>\n",
       "    </tr>\n",
       "    <tr>\n",
       "      <th>1</th>\n",
       "      <td>2000-02-01 00:00:00</td>\n",
       "      <td>174710.552381</td>\n",
       "      <td>205530.96</td>\n",
       "      <td>307766.31</td>\n",
       "      <td>642380.66</td>\n",
       "    </tr>\n",
       "    <tr>\n",
       "      <th>2</th>\n",
       "      <td>2000-03-01 00:00:00</td>\n",
       "      <td>189234.066667</td>\n",
       "      <td>229499.56</td>\n",
       "      <td>331910.29</td>\n",
       "      <td>699807.25</td>\n",
       "    </tr>\n",
       "    <tr>\n",
       "      <th>3</th>\n",
       "      <td>2000-04-01 00:00:00</td>\n",
       "      <td>174330.607143</td>\n",
       "      <td>210680.40</td>\n",
       "      <td>315648.08</td>\n",
       "      <td>586803.98</td>\n",
       "    </tr>\n",
       "    <tr>\n",
       "      <th>4</th>\n",
       "      <td>2000-05-01 00:00:00</td>\n",
       "      <td>191745.147619</td>\n",
       "      <td>208164.34</td>\n",
       "      <td>319667.97</td>\n",
       "      <td>656948.20</td>\n",
       "    </tr>\n",
       "  </tbody>\n",
       "</table>\n",
       "</div>"
      ],
      "text/plain": [
       "                 Fecha  ...  Diesel bajo azufre\n",
       "0  2000-01-01 00:00:00  ...           634667.06\n",
       "1  2000-02-01 00:00:00  ...           642380.66\n",
       "2  2000-03-01 00:00:00  ...           699807.25\n",
       "3  2000-04-01 00:00:00  ...           586803.98\n",
       "4  2000-05-01 00:00:00  ...           656948.20\n",
       "\n",
       "[5 rows x 5 columns]"
      ]
     },
     "execution_count": 173,
     "metadata": {},
     "output_type": "execute_result"
    }
   ],
   "source": [
    "df_consumo_raw_2024['Diesel bajo azufre'] = df_consumo_raw_2024['Diesel alto azufre'] + df_consumo_raw_2024['Diesel bajo azufre']\n",
    "df_consumo_raw_2024 = df_consumo_raw_2024.drop(['Diesel alto azufre'], axis=1)\n",
    "df_consumo_raw_2024.head()"
   ]
  },
  {
   "cell_type": "code",
   "execution_count": 174,
   "id": "b70b17e5",
   "metadata": {},
   "outputs": [
    {
     "name": "stdout",
     "output_type": "stream",
     "text": [
      "Ajuste de columnas de consumo 2024 completado.\n"
     ]
    }
   ],
   "source": [
    "print(\"Ajuste de columnas de consumo 2024 completado.\")"
   ]
  },
  {
   "cell_type": "code",
   "execution_count": 175,
   "id": "442233b7",
   "metadata": {},
   "outputs": [
    {
     "name": "stdout",
     "output_type": "stream",
     "text": [
      "Consumo 2025: 8 rows, 19 columns\n"
     ]
    }
   ],
   "source": [
    "df_consumo_raw_2025 = pd.read_excel(CONSUMO_2025_XLSX, skiprows=6)\n",
    "df_consumo_raw_2025.head()\n",
    "print(f\"Consumo 2025: {df_consumo_raw_2025.shape[0]} rows, {df_consumo_raw_2025.shape[1]} columns\")"
   ]
  },
  {
   "cell_type": "code",
   "execution_count": 176,
   "id": "0fd1c77e",
   "metadata": {},
   "outputs": [
    {
     "data": {
      "application/vnd.microsoft.datawrangler.viewer.v0+json": {
       "columns": [
        {
         "name": "index",
         "rawType": "int64",
         "type": "integer"
        },
        {
         "name": "Fecha",
         "rawType": "object",
         "type": "unknown"
        },
        {
         "name": "Aceites lubricantes",
         "rawType": "float64",
         "type": "float"
        },
        {
         "name": "Asfalto",
         "rawType": "float64",
         "type": "float"
        },
        {
         "name": "Bunker",
         "rawType": "float64",
         "type": "float"
        },
        {
         "name": "Ceras",
         "rawType": "float64",
         "type": "float"
        },
        {
         "name": "Combustible turbo jet",
         "rawType": "float64",
         "type": "float"
        },
        {
         "name": "Diesel bajo azufre",
         "rawType": "float64",
         "type": "float"
        },
        {
         "name": "Diesel ultra bajo azufre",
         "rawType": "float64",
         "type": "float"
        },
        {
         "name": "Gas licuado de petróleo",
         "rawType": "float64",
         "type": "float"
        },
        {
         "name": "Gasolina de aviación",
         "rawType": "float64",
         "type": "float"
        },
        {
         "name": "Gasolina regular",
         "rawType": "float64",
         "type": "float"
        },
        {
         "name": "Gasolina superior",
         "rawType": "float64",
         "type": "float"
        },
        {
         "name": "Grasas lubricantes",
         "rawType": "float64",
         "type": "float"
        },
        {
         "name": "Mezclas\noleosas",
         "rawType": "float64",
         "type": "float"
        },
        {
         "name": "Naftas",
         "rawType": "float64",
         "type": "float"
        },
        {
         "name": "PetCoke",
         "rawType": "float64",
         "type": "float"
        },
        {
         "name": "Petróleo crudo",
         "rawType": "float64",
         "type": "float"
        },
        {
         "name": "Solventes",
         "rawType": "float64",
         "type": "float"
        },
        {
         "name": "Total",
         "rawType": "float64",
         "type": "float"
        }
       ],
       "ref": "69752727-77ca-4339-b611-ee1a33d6b700",
       "rows": [
        [
         "3",
         "2025-04-01 00:00:00",
         "29802.9",
         "5792.94",
         "138234.27",
         null,
         "79483.45",
         "1384488.46",
         "41289.93",
         "581405.92",
         "944.92",
         "878741.74",
         "746081.22",
         "209.25",
         "8090.31",
         "37.24",
         "509893.47",
         "3560.0",
         "11923.71",
         "4419979.73"
        ],
        [
         "4",
         "2025-05-01 00:00:00",
         "32191.74",
         "12300.84",
         "160453.73",
         null,
         "81903.71",
         "1416602.71",
         "5696.57",
         "594599.75",
         null,
         "893158.4",
         "761100.59",
         "618.95",
         "8021.11",
         "0.54",
         "537273.51",
         "2163.0",
         "11664.74",
         "4517749.89"
        ],
        [
         "5",
         null,
         null,
         null,
         null,
         null,
         null,
         null,
         null,
         null,
         null,
         null,
         null,
         null,
         null,
         null,
         null,
         null,
         null,
         null
        ],
        [
         "6",
         "Fuente: ventas mensuales obtenidas de informes mensuales presentados por titulares de licencias de importador que realizan operaciones de importación.",
         null,
         null,
         null,
         null,
         null,
         null,
         null,
         null,
         null,
         null,
         null,
         null,
         null,
         null,
         null,
         null,
         null,
         null
        ],
        [
         "7",
         "Nota: Información sujeta a actualización por rectificaciones y presentación extemporánea de informes mensuales, por parte de los sujetos obligados.",
         null,
         null,
         null,
         null,
         null,
         null,
         null,
         null,
         null,
         null,
         null,
         null,
         null,
         null,
         null,
         null,
         null,
         null
        ]
       ],
       "shape": {
        "columns": 19,
        "rows": 5
       }
      },
      "text/html": [
       "<div>\n",
       "<style scoped>\n",
       "    .dataframe tbody tr th:only-of-type {\n",
       "        vertical-align: middle;\n",
       "    }\n",
       "\n",
       "    .dataframe tbody tr th {\n",
       "        vertical-align: top;\n",
       "    }\n",
       "\n",
       "    .dataframe thead th {\n",
       "        text-align: right;\n",
       "    }\n",
       "</style>\n",
       "<table border=\"1\" class=\"dataframe\">\n",
       "  <thead>\n",
       "    <tr style=\"text-align: right;\">\n",
       "      <th></th>\n",
       "      <th>Fecha</th>\n",
       "      <th>Aceites lubricantes</th>\n",
       "      <th>Asfalto</th>\n",
       "      <th>Bunker</th>\n",
       "      <th>Ceras</th>\n",
       "      <th>Combustible turbo jet</th>\n",
       "      <th>Diesel bajo azufre</th>\n",
       "      <th>Diesel ultra bajo azufre</th>\n",
       "      <th>Gas licuado de petróleo</th>\n",
       "      <th>Gasolina de aviación</th>\n",
       "      <th>Gasolina regular</th>\n",
       "      <th>Gasolina superior</th>\n",
       "      <th>Grasas lubricantes</th>\n",
       "      <th>Mezclas\\noleosas</th>\n",
       "      <th>Naftas</th>\n",
       "      <th>PetCoke</th>\n",
       "      <th>Petróleo crudo</th>\n",
       "      <th>Solventes</th>\n",
       "      <th>Total</th>\n",
       "    </tr>\n",
       "  </thead>\n",
       "  <tbody>\n",
       "    <tr>\n",
       "      <th>3</th>\n",
       "      <td>2025-04-01 00:00:00</td>\n",
       "      <td>29802.90</td>\n",
       "      <td>5792.94</td>\n",
       "      <td>138234.27</td>\n",
       "      <td>NaN</td>\n",
       "      <td>79483.45</td>\n",
       "      <td>1384488.46</td>\n",
       "      <td>41289.93</td>\n",
       "      <td>581405.92</td>\n",
       "      <td>944.92</td>\n",
       "      <td>878741.74</td>\n",
       "      <td>746081.22</td>\n",
       "      <td>209.25</td>\n",
       "      <td>8090.31</td>\n",
       "      <td>37.24</td>\n",
       "      <td>509893.47</td>\n",
       "      <td>3560.0</td>\n",
       "      <td>11923.71</td>\n",
       "      <td>4419979.73</td>\n",
       "    </tr>\n",
       "    <tr>\n",
       "      <th>4</th>\n",
       "      <td>2025-05-01 00:00:00</td>\n",
       "      <td>32191.74</td>\n",
       "      <td>12300.84</td>\n",
       "      <td>160453.73</td>\n",
       "      <td>NaN</td>\n",
       "      <td>81903.71</td>\n",
       "      <td>1416602.71</td>\n",
       "      <td>5696.57</td>\n",
       "      <td>594599.75</td>\n",
       "      <td>NaN</td>\n",
       "      <td>893158.40</td>\n",
       "      <td>761100.59</td>\n",
       "      <td>618.95</td>\n",
       "      <td>8021.11</td>\n",
       "      <td>0.54</td>\n",
       "      <td>537273.51</td>\n",
       "      <td>2163.0</td>\n",
       "      <td>11664.74</td>\n",
       "      <td>4517749.89</td>\n",
       "    </tr>\n",
       "    <tr>\n",
       "      <th>5</th>\n",
       "      <td>NaN</td>\n",
       "      <td>NaN</td>\n",
       "      <td>NaN</td>\n",
       "      <td>NaN</td>\n",
       "      <td>NaN</td>\n",
       "      <td>NaN</td>\n",
       "      <td>NaN</td>\n",
       "      <td>NaN</td>\n",
       "      <td>NaN</td>\n",
       "      <td>NaN</td>\n",
       "      <td>NaN</td>\n",
       "      <td>NaN</td>\n",
       "      <td>NaN</td>\n",
       "      <td>NaN</td>\n",
       "      <td>NaN</td>\n",
       "      <td>NaN</td>\n",
       "      <td>NaN</td>\n",
       "      <td>NaN</td>\n",
       "      <td>NaN</td>\n",
       "    </tr>\n",
       "    <tr>\n",
       "      <th>6</th>\n",
       "      <td>Fuente: ventas mensuales obtenidas de informes...</td>\n",
       "      <td>NaN</td>\n",
       "      <td>NaN</td>\n",
       "      <td>NaN</td>\n",
       "      <td>NaN</td>\n",
       "      <td>NaN</td>\n",
       "      <td>NaN</td>\n",
       "      <td>NaN</td>\n",
       "      <td>NaN</td>\n",
       "      <td>NaN</td>\n",
       "      <td>NaN</td>\n",
       "      <td>NaN</td>\n",
       "      <td>NaN</td>\n",
       "      <td>NaN</td>\n",
       "      <td>NaN</td>\n",
       "      <td>NaN</td>\n",
       "      <td>NaN</td>\n",
       "      <td>NaN</td>\n",
       "      <td>NaN</td>\n",
       "    </tr>\n",
       "    <tr>\n",
       "      <th>7</th>\n",
       "      <td>Nota: Información sujeta a actualización por r...</td>\n",
       "      <td>NaN</td>\n",
       "      <td>NaN</td>\n",
       "      <td>NaN</td>\n",
       "      <td>NaN</td>\n",
       "      <td>NaN</td>\n",
       "      <td>NaN</td>\n",
       "      <td>NaN</td>\n",
       "      <td>NaN</td>\n",
       "      <td>NaN</td>\n",
       "      <td>NaN</td>\n",
       "      <td>NaN</td>\n",
       "      <td>NaN</td>\n",
       "      <td>NaN</td>\n",
       "      <td>NaN</td>\n",
       "      <td>NaN</td>\n",
       "      <td>NaN</td>\n",
       "      <td>NaN</td>\n",
       "      <td>NaN</td>\n",
       "    </tr>\n",
       "  </tbody>\n",
       "</table>\n",
       "</div>"
      ],
      "text/plain": [
       "                                               Fecha  ...       Total\n",
       "3                                2025-04-01 00:00:00  ...  4419979.73\n",
       "4                                2025-05-01 00:00:00  ...  4517749.89\n",
       "5                                                NaN  ...         NaN\n",
       "6  Fuente: ventas mensuales obtenidas de informes...  ...         NaN\n",
       "7  Nota: Información sujeta a actualización por r...  ...         NaN\n",
       "\n",
       "[5 rows x 19 columns]"
      ]
     },
     "execution_count": 176,
     "metadata": {},
     "output_type": "execute_result"
    }
   ],
   "source": [
    "df_consumo_raw_2025.tail()"
   ]
  },
  {
   "cell_type": "code",
   "execution_count": 177,
   "id": "7bf757f6",
   "metadata": {},
   "outputs": [
    {
     "data": {
      "application/vnd.microsoft.datawrangler.viewer.v0+json": {
       "columns": [
        {
         "name": "index",
         "rawType": "int64",
         "type": "integer"
        },
        {
         "name": "Fecha",
         "rawType": "object",
         "type": "unknown"
        },
        {
         "name": "Aceites lubricantes",
         "rawType": "float64",
         "type": "float"
        },
        {
         "name": "Asfalto",
         "rawType": "float64",
         "type": "float"
        },
        {
         "name": "Bunker",
         "rawType": "float64",
         "type": "float"
        },
        {
         "name": "Ceras",
         "rawType": "float64",
         "type": "float"
        },
        {
         "name": "Combustible turbo jet",
         "rawType": "float64",
         "type": "float"
        },
        {
         "name": "Diesel bajo azufre",
         "rawType": "float64",
         "type": "float"
        },
        {
         "name": "Diesel ultra bajo azufre",
         "rawType": "float64",
         "type": "float"
        },
        {
         "name": "Gas licuado de petróleo",
         "rawType": "float64",
         "type": "float"
        },
        {
         "name": "Gasolina de aviación",
         "rawType": "float64",
         "type": "float"
        },
        {
         "name": "Gasolina regular",
         "rawType": "float64",
         "type": "float"
        },
        {
         "name": "Gasolina superior",
         "rawType": "float64",
         "type": "float"
        },
        {
         "name": "Grasas lubricantes",
         "rawType": "float64",
         "type": "float"
        },
        {
         "name": "Mezclas\noleosas",
         "rawType": "float64",
         "type": "float"
        },
        {
         "name": "Naftas",
         "rawType": "float64",
         "type": "float"
        },
        {
         "name": "PetCoke",
         "rawType": "float64",
         "type": "float"
        },
        {
         "name": "Petróleo crudo",
         "rawType": "float64",
         "type": "float"
        },
        {
         "name": "Solventes",
         "rawType": "float64",
         "type": "float"
        },
        {
         "name": "Total",
         "rawType": "float64",
         "type": "float"
        }
       ],
       "ref": "62d15eca-b2a0-477d-a113-f670bfd08df6",
       "rows": [
        [
         "0",
         "2025-01-01 00:00:00",
         "32041.96",
         "168.8",
         "101775.82",
         null,
         "92410.45",
         "1399798.38",
         "4727.57",
         "581794.25",
         null,
         "828269.64",
         "702319.64",
         "1262.97",
         "5791.72",
         "37.92",
         "399627.73",
         "3522.0",
         "13514.52",
         "4167063.3700000006"
        ],
        [
         "1",
         "2025-02-01 00:00:00",
         "28268.31",
         "4023.03",
         "101948.38",
         "388.64",
         "74719.98",
         "1343721.5",
         "83598.78",
         "586541.02",
         "165.78",
         "781113.92",
         "651035.74",
         "341.41",
         "3889.33",
         "46.82",
         "463740.46",
         "2857.0",
         "4392.28",
         "4130792.38"
        ],
        [
         "2",
         "2025-03-01 00:00:00",
         "26721.06",
         "8101.52",
         "124247.01",
         "425.03",
         "85437.34",
         "1456533.0",
         "7719.4",
         "589796.81",
         "1495.19",
         "895068.46",
         "763939.48",
         "8375.63",
         "6318.02",
         "0.67",
         "517139.87",
         "2022.0",
         "14447.11",
         "4507787.6"
        ],
        [
         "3",
         "2025-04-01 00:00:00",
         "29802.9",
         "5792.94",
         "138234.27",
         null,
         "79483.45",
         "1384488.46",
         "41289.93",
         "581405.92",
         "944.92",
         "878741.74",
         "746081.22",
         "209.25",
         "8090.31",
         "37.24",
         "509893.47",
         "3560.0",
         "11923.71",
         "4419979.73"
        ],
        [
         "4",
         "2025-05-01 00:00:00",
         "32191.74",
         "12300.84",
         "160453.73",
         null,
         "81903.71",
         "1416602.71",
         "5696.57",
         "594599.75",
         null,
         "893158.4",
         "761100.59",
         "618.95",
         "8021.11",
         "0.54",
         "537273.51",
         "2163.0",
         "11664.74",
         "4517749.89"
        ]
       ],
       "shape": {
        "columns": 19,
        "rows": 5
       }
      },
      "text/html": [
       "<div>\n",
       "<style scoped>\n",
       "    .dataframe tbody tr th:only-of-type {\n",
       "        vertical-align: middle;\n",
       "    }\n",
       "\n",
       "    .dataframe tbody tr th {\n",
       "        vertical-align: top;\n",
       "    }\n",
       "\n",
       "    .dataframe thead th {\n",
       "        text-align: right;\n",
       "    }\n",
       "</style>\n",
       "<table border=\"1\" class=\"dataframe\">\n",
       "  <thead>\n",
       "    <tr style=\"text-align: right;\">\n",
       "      <th></th>\n",
       "      <th>Fecha</th>\n",
       "      <th>Aceites lubricantes</th>\n",
       "      <th>Asfalto</th>\n",
       "      <th>Bunker</th>\n",
       "      <th>Ceras</th>\n",
       "      <th>Combustible turbo jet</th>\n",
       "      <th>Diesel bajo azufre</th>\n",
       "      <th>Diesel ultra bajo azufre</th>\n",
       "      <th>Gas licuado de petróleo</th>\n",
       "      <th>Gasolina de aviación</th>\n",
       "      <th>Gasolina regular</th>\n",
       "      <th>Gasolina superior</th>\n",
       "      <th>Grasas lubricantes</th>\n",
       "      <th>Mezclas\\noleosas</th>\n",
       "      <th>Naftas</th>\n",
       "      <th>PetCoke</th>\n",
       "      <th>Petróleo crudo</th>\n",
       "      <th>Solventes</th>\n",
       "      <th>Total</th>\n",
       "    </tr>\n",
       "  </thead>\n",
       "  <tbody>\n",
       "    <tr>\n",
       "      <th>0</th>\n",
       "      <td>2025-01-01 00:00:00</td>\n",
       "      <td>32041.96</td>\n",
       "      <td>168.80</td>\n",
       "      <td>101775.82</td>\n",
       "      <td>NaN</td>\n",
       "      <td>92410.45</td>\n",
       "      <td>1399798.38</td>\n",
       "      <td>4727.57</td>\n",
       "      <td>581794.25</td>\n",
       "      <td>NaN</td>\n",
       "      <td>828269.64</td>\n",
       "      <td>702319.64</td>\n",
       "      <td>1262.97</td>\n",
       "      <td>5791.72</td>\n",
       "      <td>37.92</td>\n",
       "      <td>399627.73</td>\n",
       "      <td>3522.0</td>\n",
       "      <td>13514.52</td>\n",
       "      <td>4167063.37</td>\n",
       "    </tr>\n",
       "    <tr>\n",
       "      <th>1</th>\n",
       "      <td>2025-02-01 00:00:00</td>\n",
       "      <td>28268.31</td>\n",
       "      <td>4023.03</td>\n",
       "      <td>101948.38</td>\n",
       "      <td>388.64</td>\n",
       "      <td>74719.98</td>\n",
       "      <td>1343721.50</td>\n",
       "      <td>83598.78</td>\n",
       "      <td>586541.02</td>\n",
       "      <td>165.78</td>\n",
       "      <td>781113.92</td>\n",
       "      <td>651035.74</td>\n",
       "      <td>341.41</td>\n",
       "      <td>3889.33</td>\n",
       "      <td>46.82</td>\n",
       "      <td>463740.46</td>\n",
       "      <td>2857.0</td>\n",
       "      <td>4392.28</td>\n",
       "      <td>4130792.38</td>\n",
       "    </tr>\n",
       "    <tr>\n",
       "      <th>2</th>\n",
       "      <td>2025-03-01 00:00:00</td>\n",
       "      <td>26721.06</td>\n",
       "      <td>8101.52</td>\n",
       "      <td>124247.01</td>\n",
       "      <td>425.03</td>\n",
       "      <td>85437.34</td>\n",
       "      <td>1456533.00</td>\n",
       "      <td>7719.40</td>\n",
       "      <td>589796.81</td>\n",
       "      <td>1495.19</td>\n",
       "      <td>895068.46</td>\n",
       "      <td>763939.48</td>\n",
       "      <td>8375.63</td>\n",
       "      <td>6318.02</td>\n",
       "      <td>0.67</td>\n",
       "      <td>517139.87</td>\n",
       "      <td>2022.0</td>\n",
       "      <td>14447.11</td>\n",
       "      <td>4507787.60</td>\n",
       "    </tr>\n",
       "    <tr>\n",
       "      <th>3</th>\n",
       "      <td>2025-04-01 00:00:00</td>\n",
       "      <td>29802.90</td>\n",
       "      <td>5792.94</td>\n",
       "      <td>138234.27</td>\n",
       "      <td>NaN</td>\n",
       "      <td>79483.45</td>\n",
       "      <td>1384488.46</td>\n",
       "      <td>41289.93</td>\n",
       "      <td>581405.92</td>\n",
       "      <td>944.92</td>\n",
       "      <td>878741.74</td>\n",
       "      <td>746081.22</td>\n",
       "      <td>209.25</td>\n",
       "      <td>8090.31</td>\n",
       "      <td>37.24</td>\n",
       "      <td>509893.47</td>\n",
       "      <td>3560.0</td>\n",
       "      <td>11923.71</td>\n",
       "      <td>4419979.73</td>\n",
       "    </tr>\n",
       "    <tr>\n",
       "      <th>4</th>\n",
       "      <td>2025-05-01 00:00:00</td>\n",
       "      <td>32191.74</td>\n",
       "      <td>12300.84</td>\n",
       "      <td>160453.73</td>\n",
       "      <td>NaN</td>\n",
       "      <td>81903.71</td>\n",
       "      <td>1416602.71</td>\n",
       "      <td>5696.57</td>\n",
       "      <td>594599.75</td>\n",
       "      <td>NaN</td>\n",
       "      <td>893158.40</td>\n",
       "      <td>761100.59</td>\n",
       "      <td>618.95</td>\n",
       "      <td>8021.11</td>\n",
       "      <td>0.54</td>\n",
       "      <td>537273.51</td>\n",
       "      <td>2163.0</td>\n",
       "      <td>11664.74</td>\n",
       "      <td>4517749.89</td>\n",
       "    </tr>\n",
       "  </tbody>\n",
       "</table>\n",
       "</div>"
      ],
      "text/plain": [
       "                 Fecha  Aceites lubricantes  ...  Solventes       Total\n",
       "0  2025-01-01 00:00:00             32041.96  ...   13514.52  4167063.37\n",
       "1  2025-02-01 00:00:00             28268.31  ...    4392.28  4130792.38\n",
       "2  2025-03-01 00:00:00             26721.06  ...   14447.11  4507787.60\n",
       "3  2025-04-01 00:00:00             29802.90  ...   11923.71  4419979.73\n",
       "4  2025-05-01 00:00:00             32191.74  ...   11664.74  4517749.89\n",
       "\n",
       "[5 rows x 19 columns]"
      ]
     },
     "execution_count": 177,
     "metadata": {},
     "output_type": "execute_result"
    }
   ],
   "source": [
    "df_consumo_raw_2025 = df_consumo_raw_2025.iloc[:-3]\n",
    "df_consumo_raw_2025.tail()"
   ]
  },
  {
   "cell_type": "code",
   "execution_count": 178,
   "id": "5557bf07",
   "metadata": {},
   "outputs": [
    {
     "name": "stdout",
     "output_type": "stream",
     "text": [
      "Eliminación de filas innecesarias completada.\n",
      "Consumo 2024: 5 rows, 19 columns\n",
      "Index(['Fecha', 'Aceites lubricantes', 'Asfalto', 'Bunker', 'Ceras',\n",
      "       'Combustible turbo jet', 'Diesel bajo azufre',\n",
      "       'Diesel ultra bajo azufre', 'Gas licuado de petróleo',\n",
      "       'Gasolina de aviación', 'Gasolina regular', 'Gasolina superior',\n",
      "       'Grasas lubricantes', 'Mezclas\\noleosas', 'Naftas', 'PetCoke',\n",
      "       'Petróleo crudo', 'Solventes', 'Total'],\n",
      "      dtype='object')\n"
     ]
    }
   ],
   "source": [
    "print(\"Eliminación de filas innecesarias completada.\")\n",
    "print(f\"Consumo 2024: {df_consumo_raw_2025.shape[0]} rows, {df_consumo_raw_2025.shape[1]} columns\")\n",
    "print(df_consumo_raw_2025.columns)"
   ]
  },
  {
   "cell_type": "code",
   "execution_count": 179,
   "id": "cfb58066",
   "metadata": {},
   "outputs": [
    {
     "name": "stdout",
     "output_type": "stream",
     "text": [
      "Obtención de columnas de interés.\n",
      "Consumo 2025: 5 rows, 5 columns\n"
     ]
    }
   ],
   "source": [
    "target_columns = [\"Fecha\",\"Gas licuado de petróleo\", \"Gasolina regular\", \"Gasolina superior\", \"Diesel bajo azufre\"]\n",
    "df_consumo_raw_2025 = df_consumo_raw_2025[target_columns]\n",
    "print(\"Obtención de columnas de interés.\")\n",
    "print(f\"Consumo 2025: {df_consumo_raw_2025.shape[0]} rows, {df_consumo_raw_2025.shape[1]} columns\")"
   ]
  },
  {
   "cell_type": "code",
   "execution_count": 180,
   "id": "4c0ebb13",
   "metadata": {},
   "outputs": [
    {
     "data": {
      "application/vnd.microsoft.datawrangler.viewer.v0+json": {
       "columns": [
        {
         "name": "index",
         "rawType": "int64",
         "type": "integer"
        },
        {
         "name": "Fecha",
         "rawType": "object",
         "type": "unknown"
        },
        {
         "name": "Gas licuado de petróleo",
         "rawType": "float64",
         "type": "float"
        },
        {
         "name": "Gasolina regular",
         "rawType": "float64",
         "type": "float"
        },
        {
         "name": "Gasolina superior",
         "rawType": "float64",
         "type": "float"
        },
        {
         "name": "Diesel bajo azufre",
         "rawType": "float64",
         "type": "float"
        }
       ],
       "ref": "0e41a1f4-4138-432e-85e1-87b694d5654e",
       "rows": [
        [
         "0",
         "2000-01-01 00:00:00",
         "194410.47619047618",
         "202645.2",
         "308156.82",
         "634667.06"
        ],
        [
         "1",
         "2000-02-01 00:00:00",
         "174710.55238095237",
         "205530.96",
         "307766.31",
         "642380.66"
        ],
        [
         "2",
         "2000-03-01 00:00:00",
         "189234.06666666668",
         "229499.56",
         "331910.29",
         "699807.25"
        ],
        [
         "3",
         "2000-04-01 00:00:00",
         "174330.60714285713",
         "210680.4",
         "315648.08",
         "586803.98"
        ],
        [
         "4",
         "2000-05-01 00:00:00",
         "191745.14761904764",
         "208164.34",
         "319667.97",
         "656948.2"
        ]
       ],
       "shape": {
        "columns": 5,
        "rows": 5
       }
      },
      "text/html": [
       "<div>\n",
       "<style scoped>\n",
       "    .dataframe tbody tr th:only-of-type {\n",
       "        vertical-align: middle;\n",
       "    }\n",
       "\n",
       "    .dataframe tbody tr th {\n",
       "        vertical-align: top;\n",
       "    }\n",
       "\n",
       "    .dataframe thead th {\n",
       "        text-align: right;\n",
       "    }\n",
       "</style>\n",
       "<table border=\"1\" class=\"dataframe\">\n",
       "  <thead>\n",
       "    <tr style=\"text-align: right;\">\n",
       "      <th></th>\n",
       "      <th>Fecha</th>\n",
       "      <th>Gas licuado de petróleo</th>\n",
       "      <th>Gasolina regular</th>\n",
       "      <th>Gasolina superior</th>\n",
       "      <th>Diesel bajo azufre</th>\n",
       "    </tr>\n",
       "  </thead>\n",
       "  <tbody>\n",
       "    <tr>\n",
       "      <th>0</th>\n",
       "      <td>2000-01-01 00:00:00</td>\n",
       "      <td>194410.476190</td>\n",
       "      <td>202645.20</td>\n",
       "      <td>308156.82</td>\n",
       "      <td>634667.06</td>\n",
       "    </tr>\n",
       "    <tr>\n",
       "      <th>1</th>\n",
       "      <td>2000-02-01 00:00:00</td>\n",
       "      <td>174710.552381</td>\n",
       "      <td>205530.96</td>\n",
       "      <td>307766.31</td>\n",
       "      <td>642380.66</td>\n",
       "    </tr>\n",
       "    <tr>\n",
       "      <th>2</th>\n",
       "      <td>2000-03-01 00:00:00</td>\n",
       "      <td>189234.066667</td>\n",
       "      <td>229499.56</td>\n",
       "      <td>331910.29</td>\n",
       "      <td>699807.25</td>\n",
       "    </tr>\n",
       "    <tr>\n",
       "      <th>3</th>\n",
       "      <td>2000-04-01 00:00:00</td>\n",
       "      <td>174330.607143</td>\n",
       "      <td>210680.40</td>\n",
       "      <td>315648.08</td>\n",
       "      <td>586803.98</td>\n",
       "    </tr>\n",
       "    <tr>\n",
       "      <th>4</th>\n",
       "      <td>2000-05-01 00:00:00</td>\n",
       "      <td>191745.147619</td>\n",
       "      <td>208164.34</td>\n",
       "      <td>319667.97</td>\n",
       "      <td>656948.20</td>\n",
       "    </tr>\n",
       "  </tbody>\n",
       "</table>\n",
       "</div>"
      ],
      "text/plain": [
       "                 Fecha  ...  Diesel bajo azufre\n",
       "0  2000-01-01 00:00:00  ...           634667.06\n",
       "1  2000-02-01 00:00:00  ...           642380.66\n",
       "2  2000-03-01 00:00:00  ...           699807.25\n",
       "3  2000-04-01 00:00:00  ...           586803.98\n",
       "4  2000-05-01 00:00:00  ...           656948.20\n",
       "\n",
       "[5 rows x 5 columns]"
      ]
     },
     "execution_count": 180,
     "metadata": {},
     "output_type": "execute_result"
    }
   ],
   "source": [
    "df_consumo = pd.concat([df_consumo_raw_2024, df_consumo_raw_2025], ignore_index=True)\n",
    "df_consumo.head()"
   ]
  },
  {
   "cell_type": "code",
   "execution_count": 182,
   "id": "876495cf",
   "metadata": {},
   "outputs": [
    {
     "name": "stdout",
     "output_type": "stream",
     "text": [
      "Union de datos de consumo 2024 y 2025 completada.\n"
     ]
    }
   ],
   "source": [
    "print(\"Union de datos de consumo 2024 y 2025 completada.\")\n",
    "df_consumo.to_csv(CONSUMO_CSV, index=False)"
   ]
  },
  {
   "cell_type": "code",
   "execution_count": 116,
   "id": "3069f059",
   "metadata": {},
   "outputs": [],
   "source": [
    "# df_consumo_raw_2024       # DataFrame original de consumo 2024\n",
    "# df_consumo_raw_2025       # DataFrame original de consumo 2025\n",
    "# df_consumo                # Unión y limpieza final de consumo mensual\n",
    "\n",
    "# df_import_raw_2024        # Importaciones 2024\n",
    "# df_import_raw_2025        # Importaciones 2025\n",
    "# df_import                 # Unión y limpieza final de importación mensual\n",
    "# df_import['diesel_total'] # Diésel combinado (alto + bajo azufre)\n",
    "\n",
    "# df_precios_raw            # Precios diarios\n",
    "# df_precios                # Promedio mensual gasolina regular\n",
    "\n",
    "\n",
    "# serie_precio_gasolina_regular      # Series de tiempo de precios mensual (Ciudad Capital)\n",
    "# serie_import_diesel_total          # Serie mensual de importación total de diésel\n",
    "# serie_consumo_gas_licuado          # Serie mensual de consumo de gas propano\n"
   ]
  },
  {
   "cell_type": "markdown",
   "id": "42d51cf6",
   "metadata": {},
   "source": [
    "### Carga y conversión de archivos Excel a CSV"
   ]
  },
  {
   "cell_type": "code",
   "execution_count": null,
   "id": "78ad4b33",
   "metadata": {},
   "outputs": [],
   "source": [
    "def loadConsumptionData(path, saveCsv=False, outputPath=None):\n",
    "    \"\"\"\n",
    "    Carga los datos de consumo de hidrocarburos desde un archivo Excel.\n",
    "    Unifica el diesel bajo y alto azufre en una sola columna.\n",
    "    \"\"\"\n",
    "    df = pd.read_excel(path, skiprows=6)\n",
    "\n",
    "    # Limpiar nombres de columnas\n",
    "    df.columns = df.columns.str.strip()\n",
    "\n",
    "    # Renombrar columnas clave para facilitar análisis\n",
    "    df = df.rename(columns={\n",
    "        \"Fecha\": \"fecha\",\n",
    "        \"Gasolina regular\": \"regular\",\n",
    "        \"Gasolina superior\": \"super\",\n",
    "        \"Gas licuado de petróleo\": \"glp\",\n",
    "        \"Diesel bajo azufre\": \"diesel_ls\",\n",
    "        \"Diesel alto azufre\": \"diesel_hs\"\n",
    "    })\n",
    "\n",
    "    # Crear diesel_total como suma de los dos tipos\n",
    "    df[\"diesel_total\"] = df.get(\"diesel_ls\", 0) + df.get(\"diesel_hs\", 0)\n",
    "\n",
    "    # Quedarnos solo con lo necesario\n",
    "    df = df[[\"fecha\", \"regular\", \"super\", \"glp\", \"diesel_total\"]]\n",
    "\n",
    "    # No convertir fechas aún (lo dejamos para limpieza global si es necesario)\n",
    "\n",
    "    if saveCsv and outputPath:\n",
    "        df.to_csv(outputPath, index=False)\n",
    "\n",
    "    return df\n"
   ]
  },
  {
   "cell_type": "code",
   "execution_count": 126,
   "id": "1283f606",
   "metadata": {},
   "outputs": [
    {
     "ename": "TypeError",
     "evalue": "loadConsumptionData() got an unexpected keyword argument 'saveCsv'",
     "output_type": "error",
     "traceback": [
      "\u001b[31m---------------------------------------------------------------------------\u001b[39m",
      "\u001b[31mTypeError\u001b[39m                                 Traceback (most recent call last)",
      "\u001b[36mCell\u001b[39m\u001b[36m \u001b[39m\u001b[32mIn[126]\u001b[39m\u001b[32m, line 2\u001b[39m\n\u001b[32m      1\u001b[39m CONSUMO_2024_XLSX = \u001b[33m\"\u001b[39m\u001b[33m./data-input/CONSUMO-HIDROCARBUROS-2024-12.xlsx\u001b[39m\u001b[33m\"\u001b[39m\n\u001b[32m----> \u001b[39m\u001b[32m2\u001b[39m df_consumo = \u001b[43mloadConsumptionData\u001b[49m\u001b[43m(\u001b[49m\u001b[43mCONSUMO_2024_XLSX\u001b[49m\u001b[43m,\u001b[49m\u001b[43m \u001b[49m\u001b[43msaveCsv\u001b[49m\u001b[43m=\u001b[49m\u001b[38;5;28;43;01mTrue\u001b[39;49;00m\u001b[43m,\u001b[49m\u001b[43m \u001b[49m\u001b[43moutputPath\u001b[49m\u001b[43m=\u001b[49m\u001b[33;43m\"\u001b[39;49m\u001b[33;43m./data-output/consumo_2024.csv\u001b[39;49m\u001b[33;43m\"\u001b[39;49m\u001b[43m)\u001b[49m\n",
      "\u001b[31mTypeError\u001b[39m: loadConsumptionData() got an unexpected keyword argument 'saveCsv'"
     ]
    }
   ],
   "source": [
    "CONSUMO_2024_XLSX = \"./data-input/CONSUMO-HIDROCARBUROS-2024-12.xlsx\"\n",
    "df_consumo = loadConsumptionData(CONSUMO_2024_XLSX, saveCsv=True, outputPath=\"./data-output/consumo_2024.csv\")\n"
   ]
  },
  {
   "cell_type": "code",
   "execution_count": 117,
   "id": "c66464d0",
   "metadata": {},
   "outputs": [],
   "source": [
    "def sanitizeDateColumn(df, dateColumn=\"Fecha\", convert=False, dropInvalid=False):\n",
    "    \"\"\"\n",
    "    Si convert=True, intenta convertir a datetime.\n",
    "    Si dropInvalid=True, elimina las fechas inválidas (NaT).\n",
    "    \"\"\"\n",
    "    df = df.copy()\n",
    "    \n",
    "    if convert:\n",
    "        df[dateColumn] = pd.to_datetime(df[dateColumn], errors=\"coerce\")\n",
    "\n",
    "        if dropInvalid:\n",
    "            df = df.dropna(subset=[dateColumn])\n",
    "    \n",
    "    return df"
   ]
  },
  {
   "cell_type": "code",
   "execution_count": 118,
   "id": "f01a37cc",
   "metadata": {},
   "outputs": [],
   "source": [
    "def loadAndProcessConsumption(saveCsv=True):\n",
    "    df_2024 = pd.read_excel(CONSUMO_2024_XLSX, skiprows=6)\n",
    "    df_2025 = pd.read_excel(CONSUMO_2025_XLSX, skiprows=6)\n",
    "\n",
    "    df_2024.columns = df_2024.columns.str.strip()\n",
    "    df_2025.columns = df_2025.columns.str.strip()\n",
    "\n",
    "    rename_map = {\n",
    "        \"Gasolina regular\": \"regular\",\n",
    "        \"Gasolina superior\": \"super\",\n",
    "        \"Diesel bajo azufre\": \"dieselLS\",\n",
    "        \"Diesel alto azufre\": \"dieselHS\",\n",
    "        \"Gas licuado de petróleo\": \"glp\"\n",
    "    }\n",
    "\n",
    "    df_2024 = df_2024.rename(columns=rename_map)\n",
    "    df_2025 = df_2025.rename(columns=rename_map)\n",
    "\n",
    "    df_2024[\"diesel_total\"] = df_2024.get(\"dieselHS\", 0)\n",
    "    df_2025[\"diesel_total\"] = df_2025.get(\"dieselLS\", 0)\n",
    "\n",
    "    df = pd.concat([df_2024, df_2025], ignore_index=True)\n",
    "    df = df[[\"Fecha\", \"regular\", \"super\", \"glp\", \"diesel_total\"]]\n",
    "\n",
    "    # Forzar conversión a datetime y eliminar errores\n",
    "    df[\"Fecha\"] = pd.to_datetime(df[\"Fecha\"], errors=\"coerce\")\n",
    "    df = df.dropna(subset=[\"Fecha\"])\n",
    "\n",
    "    df = df.sort_values(\"Fecha\")\n",
    "\n",
    "    if saveCsv:\n",
    "        df.to_csv(IMPORT_CSV, index=False)\n",
    "\n",
    "    return df\n"
   ]
  },
  {
   "cell_type": "code",
   "execution_count": 119,
   "id": "9d5b411d",
   "metadata": {},
   "outputs": [],
   "source": [
    "def loadAndProcessImportation(saveCsv=True):\n",
    "    \"\"\"Carga y unifica los archivos de importación. Crea diesel_total sumando HS y LS según año.\"\"\"\n",
    "    df_2024 = pd.read_excel(IMPORT_2024_XLSX, skiprows=6)\n",
    "    df_2025 = pd.read_excel(IMPORT_2025_XLSX, skiprows=6)\n",
    "\n",
    "    # Limpia nombres de columnas\n",
    "    df_2024.columns = df_2024.columns.str.strip()\n",
    "    df_2025.columns = df_2025.columns.str.strip()\n",
    "\n",
    "    rename_map_2024 = {\n",
    "        \"Gasolina regular\": \"regular\",\n",
    "        \"Gasolina superior\": \"super\",\n",
    "        \"Diesel bajo azufre\": \"dieselLS\",\n",
    "        \"Diesel alto azufre\": \"dieselHS\",\n",
    "        \"Gas licuado de petróleo\": \"glp\"\n",
    "    }\n",
    "\n",
    "    rename_map_2025 = {\n",
    "        \"Gasolina regular\": \"regular\",\n",
    "        \"Gasolina superior\": \"super\",\n",
    "        \"Diesel bajo azufre\": \"dieselLS\",\n",
    "        \"Gas Licuado de Petróleo\": \"glp\"\n",
    "    }\n",
    "\n",
    "    df_2024 = df_2024.rename(columns=rename_map_2024)\n",
    "    df_2025 = df_2025.rename(columns=rename_map_2025)\n",
    "\n",
    "    # Construir diesel_total por año\n",
    "    df_2024[\"diesel_total\"] = df_2024.get(\"dieselHS\", 0)\n",
    "    df_2025[\"diesel_total\"] = df_2025.get(\"dieselLS\", 0)\n",
    "\n",
    "    df = pd.concat([df_2024, df_2025], ignore_index=True)\n",
    "    df = df[[\"Fecha\", \"regular\", \"super\", \"glp\", \"diesel_total\"]]\n",
    "\n",
    "    # Sanitiza fechas\n",
    "    df = sanitizeDateColumn(df, \"Fecha\", convert=True, dropInvalid=True)\n",
    "    df = df.sort_values(\"Fecha\")\n",
    "\n",
    "    if saveCsv:\n",
    "        df.to_csv(IMPORT_CSV, index=False)\n",
    "\n",
    "    return df"
   ]
  },
  {
   "cell_type": "code",
   "execution_count": 120,
   "id": "a5bbd661",
   "metadata": {},
   "outputs": [],
   "source": [
    "def loadAndProcessPrices(saveCsv=True):\n",
    "    \"\"\"Carga precios diarios, renombra columnas clave, limpia fechas y genera promedios mensuales.\"\"\"\n",
    "    df = pd.read_excel(PRECIOS_2025_XLSX, skiprows=7)  # Omite encabezado doble\n",
    "\n",
    "    # Limpieza de nombres de columnas\n",
    "    df.columns = df.columns.str.strip()\n",
    "\n",
    "    # Reasigna nombres de columnas manualmente (posición basada en estructura conocida)\n",
    "    df = df.rename(columns={\n",
    "        df.columns[0]: \"Fecha\",\n",
    "        df.columns[2]: \"super\",\n",
    "        df.columns[3]: \"regular\",\n",
    "        df.columns[4]: \"diesel\",\n",
    "        df.columns[6]: \"glp\"\n",
    "    })\n",
    "\n",
    "    # Filtramos solo columnas relevantes\n",
    "    df = df[[\"Fecha\", \"regular\", \"super\", \"diesel\", \"glp\"]]\n",
    "\n",
    "    # Ahora sí: convertir fechas y eliminar inválidas\n",
    "    df = sanitizeDateColumn(df, \"Fecha\", convert=True, dropInvalid=True)\n",
    "\n",
    "    # Ordenar cronológicamente\n",
    "    df = df.sort_values(\"Fecha\")\n",
    "\n",
    "    # Agregación mensual por promedio\n",
    "    df_mensual = df.set_index(\"Fecha\").resample(\"M\").mean().reset_index()\n",
    "\n",
    "    if saveCsv:\n",
    "        df_mensual.to_csv(PRECIOS_CSV, index=False)\n",
    "\n",
    "    return df_mensual"
   ]
  },
  {
   "cell_type": "code",
   "execution_count": 121,
   "id": "0915e4c4",
   "metadata": {},
   "outputs": [
    {
     "name": "stderr",
     "output_type": "stream",
     "text": [
      "C:\\Users\\josue\\AppData\\Local\\Temp\\ipykernel_25704\\3229522666.py:27: FutureWarning: 'M' is deprecated and will be removed in a future version, please use 'ME' instead.\n",
      "  df_mensual = df.set_index(\"Fecha\").resample(\"M\").mean().reset_index()\n"
     ]
    }
   ],
   "source": [
    "df_consumo = loadAndProcessConsumption(saveCsv=SAVE_CONSUMO_CSV)\n",
    "df_importacion = loadAndProcessImportation(saveCsv=SAVE_IMPORT_CSV)\n",
    "df_precios = loadAndProcessPrices(saveCsv=SAVE_PRECIOS_CSV)\n"
   ]
  },
  {
   "cell_type": "code",
   "execution_count": 122,
   "id": "7b6f2b08",
   "metadata": {},
   "outputs": [],
   "source": [
    "# # Re-guardar por si SAVE_* son False\n",
    "# df_consumo.to_csv(CONSUMO_CSV, index=False)\n",
    "# df_importacion.to_csv(IMPORT_CSV, index=False)\n",
    "# df_precios.to_csv(PRECIOS_CSV, index=False)\n",
    "\n",
    "# # Verificación de forma (shape)\n",
    "# print(\"✔ Data saved and loaded:\")\n",
    "# print(f\"Consumo: {df_consumo.shape}\")\n",
    "# print(f\"Importación: {df_importacion.shape}\")\n",
    "# print(f\"Precios: {df_precios.shape}\")\n"
   ]
  },
  {
   "cell_type": "code",
   "execution_count": null,
   "id": "61cd423c",
   "metadata": {},
   "outputs": [],
   "source": []
  },
  {
   "cell_type": "code",
   "execution_count": null,
   "id": "4b5c2b51",
   "metadata": {},
   "outputs": [],
   "source": []
  },
  {
   "cell_type": "code",
   "execution_count": null,
   "id": "d20ae058",
   "metadata": {},
   "outputs": [],
   "source": []
  }
 ],
 "metadata": {
  "kernelspec": {
   "display_name": ".venv",
   "language": "python",
   "name": "python3"
  },
  "language_info": {
   "codemirror_mode": {
    "name": "ipython",
    "version": 3
   },
   "file_extension": ".py",
   "mimetype": "text/x-python",
   "name": "python",
   "nbconvert_exporter": "python",
   "pygments_lexer": "ipython3",
   "version": "3.13.5"
  }
 },
 "nbformat": 4,
 "nbformat_minor": 5
}
