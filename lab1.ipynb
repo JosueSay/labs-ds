{
 "cells": [
  {
   "cell_type": "markdown",
   "id": "269f5ee7",
   "metadata": {},
   "source": [
    "# Análisis y Modelado de Series de Tiempo de Combustibles en Guatemala: Consumo, Importación y Precios (2000–2025)"
   ]
  },
  {
   "cell_type": "markdown",
   "id": "3d58c51c",
   "metadata": {},
   "source": [
    "## Carga, limpieza y preparación de datos"
   ]
  },
  {
   "cell_type": "markdown",
   "id": "ba4c8fc5",
   "metadata": {},
   "source": [
    "### Librerias"
   ]
  },
  {
   "cell_type": "code",
   "execution_count": 114,
   "id": "d6e2b3b4",
   "metadata": {},
   "outputs": [],
   "source": [
    "import pandas as pd\n",
    "import numpy as np\n",
    "import os\n",
    "\n",
    "import matplotlib.pyplot as plt\n",
    "\n",
    "from statsmodels.tsa.seasonal import seasonal_decompose\n",
    "from statsmodels.tsa.stattools import adfuller\n",
    "from statsmodels.graphics.tsaplots import plot_acf, plot_pacf\n",
    "from statsmodels.tsa.holtwinters import ExponentialSmoothing\n",
    "from statsmodels.tsa.arima.model import ARIMA\n",
    "\n",
    "# import pmdarima as pm  # auto_arima\n",
    "\n",
    "from prophet import Prophet\n",
    "\n",
    "from sklearn.metrics import mean_absolute_error, mean_squared_error\n",
    "from sklearn.neural_network import MLPRegressor  # NN simple o usar tensorflow dependerá por ahora el simple"
   ]
  },
  {
   "cell_type": "markdown",
   "id": "a1dce06f",
   "metadata": {},
   "source": [
    "### Variables - Constantes"
   ]
  },
  {
   "cell_type": "code",
   "execution_count": 115,
   "id": "b26800f5",
   "metadata": {},
   "outputs": [],
   "source": [
    "DATA_DIR = \"./data-input\"\n",
    "\n",
    "# Consumo (ventas)\n",
    "CONSUMO_2024_XLSX = f\"{DATA_DIR}/CONSUMO-HIDROCARBUROS-2024-12.xlsx\"\n",
    "CONSUMO_2025_XLSX = f\"{DATA_DIR}/VENTAS-HIDROCARBUROS-2025-05.xlsx\"\n",
    "\n",
    "# Importaciones\n",
    "IMPORT_2024_XLSX = f\"{DATA_DIR}/IMPORTACION-HIDROCARBUROS-VOLUMEN-2024-12.xlsx\"\n",
    "IMPORT_2025_XLSX = f\"{DATA_DIR}/IMPORTACION-HIDROCARBUROS-VOLUMEN-2025-05.xlsx\"\n",
    "\n",
    "# Precios diarios\n",
    "PRECIOS_2025_XLSX = f\"{DATA_DIR}/Precios-Promedio-Nacionales-Diarios-2025-1.xlsx\"\n",
    "\n",
    "OUTPUT_DIR = \"./data-output\"\n",
    "CONSUMO_CSV = f\"{OUTPUT_DIR}/consumo_combustibles.csv\"\n",
    "IMPORT_CSV = f\"{OUTPUT_DIR}/importacion_combustibles.csv\"\n",
    "PRECIOS_CSV = f\"{OUTPUT_DIR}/precios_diarios.csv\"\n",
    "\n",
    "SAVE_CONSUMO_CSV = True\n",
    "SAVE_IMPORT_CSV = True\n",
    "SAVE_PRECIOS_CSV = True\n",
    "os.makedirs(OUTPUT_DIR, exist_ok=True)"
   ]
  },
  {
   "cell_type": "code",
   "execution_count": 116,
   "id": "3069f059",
   "metadata": {},
   "outputs": [],
   "source": [
    "# df_consumo_raw_2024       # DataFrame original de consumo 2024\n",
    "# df_consumo_raw_2025       # DataFrame original de consumo 2025\n",
    "# df_consumo                # Unión y limpieza final de consumo mensual\n",
    "\n",
    "# df_import_raw_2024        # Importaciones 2024\n",
    "# df_import_raw_2025        # Importaciones 2025\n",
    "# df_import                 # Unión y limpieza final de importación mensual\n",
    "# df_import['diesel_total'] # Diésel combinado (alto + bajo azufre)\n",
    "\n",
    "# df_precios_raw            # Precios diarios\n",
    "# df_precios                # Promedio mensual gasolina regular\n",
    "\n",
    "\n",
    "# serie_precio_gasolina_regular      # Series de tiempo de precios mensual (Ciudad Capital)\n",
    "# serie_import_diesel_total          # Serie mensual de importación total de diésel\n",
    "# serie_consumo_gas_licuado          # Serie mensual de consumo de gas propano\n"
   ]
  },
  {
   "cell_type": "markdown",
   "id": "42d51cf6",
   "metadata": {},
   "source": [
    "### Carga y conversión de archivos Excel a CSV"
   ]
  },
  {
   "cell_type": "code",
   "execution_count": 117,
   "id": "c66464d0",
   "metadata": {},
   "outputs": [],
   "source": [
    "def sanitizeDateColumn(df, dateColumn=\"Fecha\", convert=False, dropInvalid=False):\n",
    "    \"\"\"\n",
    "    Si convert=True, intenta convertir a datetime.\n",
    "    Si dropInvalid=True, elimina las fechas inválidas (NaT).\n",
    "    \"\"\"\n",
    "    df = df.copy()\n",
    "    \n",
    "    if convert:\n",
    "        df[dateColumn] = pd.to_datetime(df[dateColumn], errors=\"coerce\")\n",
    "\n",
    "        if dropInvalid:\n",
    "            df = df.dropna(subset=[dateColumn])\n",
    "    \n",
    "    return df"
   ]
  },
  {
   "cell_type": "code",
   "execution_count": 118,
   "id": "f01a37cc",
   "metadata": {},
   "outputs": [],
   "source": [
    "def loadAndProcessConsumption(saveCsv=True):\n",
    "    df_2024 = pd.read_excel(CONSUMO_2024_XLSX, skiprows=6)\n",
    "    df_2025 = pd.read_excel(CONSUMO_2025_XLSX, skiprows=6)\n",
    "\n",
    "    df_2024.columns = df_2024.columns.str.strip()\n",
    "    df_2025.columns = df_2025.columns.str.strip()\n",
    "\n",
    "    rename_map = {\n",
    "        \"Gasolina regular\": \"regular\",\n",
    "        \"Gasolina superior\": \"super\",\n",
    "        \"Diesel bajo azufre\": \"dieselLS\",\n",
    "        \"Diesel alto azufre\": \"dieselHS\",\n",
    "        \"Gas licuado de petróleo\": \"glp\"\n",
    "    }\n",
    "\n",
    "    df_2024 = df_2024.rename(columns=rename_map)\n",
    "    df_2025 = df_2025.rename(columns=rename_map)\n",
    "\n",
    "    df_2024[\"diesel_total\"] = df_2024.get(\"dieselHS\", 0)\n",
    "    df_2025[\"diesel_total\"] = df_2025.get(\"dieselLS\", 0)\n",
    "\n",
    "    df = pd.concat([df_2024, df_2025], ignore_index=True)\n",
    "    df = df[[\"Fecha\", \"regular\", \"super\", \"glp\", \"diesel_total\"]]\n",
    "\n",
    "    # Forzar conversión a datetime y eliminar errores\n",
    "    df[\"Fecha\"] = pd.to_datetime(df[\"Fecha\"], errors=\"coerce\")\n",
    "    df = df.dropna(subset=[\"Fecha\"])\n",
    "\n",
    "    df = df.sort_values(\"Fecha\")\n",
    "\n",
    "    if saveCsv:\n",
    "        df.to_csv(IMPORT_CSV, index=False)\n",
    "\n",
    "    return df\n"
   ]
  },
  {
   "cell_type": "code",
   "execution_count": 119,
   "id": "9d5b411d",
   "metadata": {},
   "outputs": [],
   "source": [
    "def loadAndProcessImportation(saveCsv=True):\n",
    "    \"\"\"Carga y unifica los archivos de importación. Crea diesel_total sumando HS y LS según año.\"\"\"\n",
    "    df_2024 = pd.read_excel(IMPORT_2024_XLSX, skiprows=6)\n",
    "    df_2025 = pd.read_excel(IMPORT_2025_XLSX, skiprows=6)\n",
    "\n",
    "    # Limpia nombres de columnas\n",
    "    df_2024.columns = df_2024.columns.str.strip()\n",
    "    df_2025.columns = df_2025.columns.str.strip()\n",
    "\n",
    "    rename_map_2024 = {\n",
    "        \"Gasolina regular\": \"regular\",\n",
    "        \"Gasolina superior\": \"super\",\n",
    "        \"Diesel bajo azufre\": \"dieselLS\",\n",
    "        \"Diesel alto azufre\": \"dieselHS\",\n",
    "        \"Gas licuado de petróleo\": \"glp\"\n",
    "    }\n",
    "\n",
    "    rename_map_2025 = {\n",
    "        \"Gasolina regular\": \"regular\",\n",
    "        \"Gasolina superior\": \"super\",\n",
    "        \"Diesel bajo azufre\": \"dieselLS\",\n",
    "        \"Gas Licuado de Petróleo\": \"glp\"\n",
    "    }\n",
    "\n",
    "    df_2024 = df_2024.rename(columns=rename_map_2024)\n",
    "    df_2025 = df_2025.rename(columns=rename_map_2025)\n",
    "\n",
    "    # Construir diesel_total por año\n",
    "    df_2024[\"diesel_total\"] = df_2024.get(\"dieselHS\", 0)\n",
    "    df_2025[\"diesel_total\"] = df_2025.get(\"dieselLS\", 0)\n",
    "\n",
    "    df = pd.concat([df_2024, df_2025], ignore_index=True)\n",
    "    df = df[[\"Fecha\", \"regular\", \"super\", \"glp\", \"diesel_total\"]]\n",
    "\n",
    "    # Sanitiza fechas\n",
    "    df = sanitizeDateColumn(df, \"Fecha\", convert=True, dropInvalid=True)\n",
    "    df = df.sort_values(\"Fecha\")\n",
    "\n",
    "    if saveCsv:\n",
    "        df.to_csv(IMPORT_CSV, index=False)\n",
    "\n",
    "    return df"
   ]
  },
  {
   "cell_type": "code",
   "execution_count": 120,
   "id": "a5bbd661",
   "metadata": {},
   "outputs": [],
   "source": [
    "def loadAndProcessPrices(saveCsv=True):\n",
    "    \"\"\"Carga precios diarios, renombra columnas clave, limpia fechas y genera promedios mensuales.\"\"\"\n",
    "    df = pd.read_excel(PRECIOS_2025_XLSX, skiprows=7)  # Omite encabezado doble\n",
    "\n",
    "    # Limpieza de nombres de columnas\n",
    "    df.columns = df.columns.str.strip()\n",
    "\n",
    "    # Reasigna nombres de columnas manualmente (posición basada en estructura conocida)\n",
    "    df = df.rename(columns={\n",
    "        df.columns[0]: \"Fecha\",\n",
    "        df.columns[2]: \"super\",\n",
    "        df.columns[3]: \"regular\",\n",
    "        df.columns[4]: \"diesel\",\n",
    "        df.columns[6]: \"glp\"\n",
    "    })\n",
    "\n",
    "    # Filtramos solo columnas relevantes\n",
    "    df = df[[\"Fecha\", \"regular\", \"super\", \"diesel\", \"glp\"]]\n",
    "\n",
    "    # Ahora sí: convertir fechas y eliminar inválidas\n",
    "    df = sanitizeDateColumn(df, \"Fecha\", convert=True, dropInvalid=True)\n",
    "\n",
    "    # Ordenar cronológicamente\n",
    "    df = df.sort_values(\"Fecha\")\n",
    "\n",
    "    # Agregación mensual por promedio\n",
    "    df_mensual = df.set_index(\"Fecha\").resample(\"M\").mean().reset_index()\n",
    "\n",
    "    if saveCsv:\n",
    "        df_mensual.to_csv(PRECIOS_CSV, index=False)\n",
    "\n",
    "    return df_mensual"
   ]
  },
  {
   "cell_type": "code",
   "execution_count": 121,
   "id": "0915e4c4",
   "metadata": {},
   "outputs": [
    {
     "name": "stderr",
     "output_type": "stream",
     "text": [
      "C:\\Users\\josue\\AppData\\Local\\Temp\\ipykernel_25704\\3229522666.py:27: FutureWarning: 'M' is deprecated and will be removed in a future version, please use 'ME' instead.\n",
      "  df_mensual = df.set_index(\"Fecha\").resample(\"M\").mean().reset_index()\n"
     ]
    }
   ],
   "source": [
    "df_consumo = loadAndProcessConsumption(saveCsv=SAVE_CONSUMO_CSV)\n",
    "df_importacion = loadAndProcessImportation(saveCsv=SAVE_IMPORT_CSV)\n",
    "df_precios = loadAndProcessPrices(saveCsv=SAVE_PRECIOS_CSV)\n"
   ]
  },
  {
   "cell_type": "code",
   "execution_count": 122,
   "id": "7b6f2b08",
   "metadata": {},
   "outputs": [],
   "source": [
    "# # Re-guardar por si SAVE_* son False\n",
    "# df_consumo.to_csv(CONSUMO_CSV, index=False)\n",
    "# df_importacion.to_csv(IMPORT_CSV, index=False)\n",
    "# df_precios.to_csv(PRECIOS_CSV, index=False)\n",
    "\n",
    "# # Verificación de forma (shape)\n",
    "# print(\"✔ Data saved and loaded:\")\n",
    "# print(f\"Consumo: {df_consumo.shape}\")\n",
    "# print(f\"Importación: {df_importacion.shape}\")\n",
    "# print(f\"Precios: {df_precios.shape}\")\n"
   ]
  },
  {
   "cell_type": "code",
   "execution_count": null,
   "id": "61cd423c",
   "metadata": {},
   "outputs": [],
   "source": []
  },
  {
   "cell_type": "code",
   "execution_count": null,
   "id": "4b5c2b51",
   "metadata": {},
   "outputs": [],
   "source": []
  },
  {
   "cell_type": "code",
   "execution_count": null,
   "id": "d20ae058",
   "metadata": {},
   "outputs": [],
   "source": []
  }
 ],
 "metadata": {
  "kernelspec": {
   "display_name": ".venv",
   "language": "python",
   "name": "python3"
  },
  "language_info": {
   "codemirror_mode": {
    "name": "ipython",
    "version": 3
   },
   "file_extension": ".py",
   "mimetype": "text/x-python",
   "name": "python",
   "nbconvert_exporter": "python",
   "pygments_lexer": "ipython3",
   "version": "3.13.5"
  }
 },
 "nbformat": 4,
 "nbformat_minor": 5
}
